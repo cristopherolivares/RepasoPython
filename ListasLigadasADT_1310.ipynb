{
  "nbformat": 4,
  "nbformat_minor": 0,
  "metadata": {
    "colab": {
      "name": "ListasLigadasADT_1310.ipynb",
      "provenance": [],
      "authorship_tag": "ABX9TyOuM7IAiuelaMvkmkiSoRt9",
      "include_colab_link": true
    },
    "kernelspec": {
      "name": "python3",
      "display_name": "Python 3"
    },
    "language_info": {
      "name": "python"
    }
  },
  "cells": [
    {
      "cell_type": "markdown",
      "metadata": {
        "id": "view-in-github",
        "colab_type": "text"
      },
      "source": [
        "<a href=\"https://colab.research.google.com/github/cristopherolivares/RepasoPython/blob/master/ListasLigadasADT_1310.ipynb\" target=\"_parent\"><img src=\"https://colab.research.google.com/assets/colab-badge.svg\" alt=\"Open In Colab\"/></a>"
      ]
    },
    {
      "cell_type": "markdown",
      "metadata": {
        "id": "zDp2cRCA0lBY"
      },
      "source": [
        "# Ejercicios con la clase Nodo\n",
        "\n",
        "- Crear un Nodo\n",
        "  - Imprimir el valor del Nodo\n",
        "- Crear dos Nodos\n",
        "  - Imprimir el valor del primero\n",
        "  - Imprimir el valor del segundo\n",
        "  - Transversal\n",
        "- Lo mismo pero con 4 Nodos 10, 20, 30, 40\n",
        "  - Imprimir el valor del primero\n",
        "  - Imprimir el valor del segundo\n",
        "  - Transversal\n",
        "  - Insertar el Nodo 25, depués del Nodo 20 y antes del Nodo 30 "
      ]
    },
    {
      "cell_type": "code",
      "metadata": {
        "id": "WE30Iqqm0ZkI"
      },
      "source": [
        "class Nodo:\n",
        "  def __init__( self , value , siguiente = None ):\n",
        "    self.data = value\n",
        "    self.next = siguiente"
      ],
      "execution_count": 1,
      "outputs": []
    },
    {
      "cell_type": "code",
      "metadata": {
        "colab": {
          "base_uri": "https://localhost:8080/"
        },
        "id": "3FJTrUSy2CET",
        "outputId": "c84fe5e9-54c8-4664-d3aa-a3adc7b8e249"
      },
      "source": [
        "head = Nodo( 10 )\n",
        "print( head.data )"
      ],
      "execution_count": 2,
      "outputs": [
        {
          "output_type": "stream",
          "name": "stdout",
          "text": [
            "10\n"
          ]
        }
      ]
    },
    {
      "cell_type": "code",
      "metadata": {
        "colab": {
          "base_uri": "https://localhost:8080/"
        },
        "id": "kNFonKMZ2sba",
        "outputId": "c16bc6b4-e398-4d6c-cc30-5cfc43d1800f"
      },
      "source": [
        "head = Nodo( 10 )\n",
        "head.next = Nodo( 20 )\n",
        "print( f\"Primero = { head.data }\")\n",
        "print( f\"Segundo = { head.next.data }\")\n",
        "\n",
        "print(\"\\nLo mismo pero ahorrando código:\")\n",
        "# Lo mismo pero ahorrando código\n",
        "head = Nodo( 10 , Nodo( 20 ) )\n",
        "print( f\"Primero = { head.data }\")\n",
        "print( f\"Segundo = { head.next.data }\")\n",
        "\n",
        "# Transversal\n",
        "curr_node = head\n",
        "while curr_node != None:\n",
        "  print(f\"| { curr_node.data } | --> \" , end = \"\")\n",
        "  curr_node = curr_node.next\n",
        "print(\"\")"
      ],
      "execution_count": 3,
      "outputs": [
        {
          "output_type": "stream",
          "name": "stdout",
          "text": [
            "Primero = 10\n",
            "Segundo = 20\n",
            "\n",
            "Lo mismo pero ahorrando código:\n",
            "Primero = 10\n",
            "Segundo = 20\n",
            "| 10 | --> | 20 | --> \n"
          ]
        }
      ]
    },
    {
      "cell_type": "code",
      "metadata": {
        "colab": {
          "base_uri": "https://localhost:8080/"
        },
        "id": "Ov6GhPzk68AL",
        "outputId": "e13c4dae-1b92-4db6-88cd-e50b54ea7da4"
      },
      "source": [
        "head = Nodo( 10 , Nodo( 20 , Nodo( 30 , Nodo( 40 ))))\n",
        "# Nodo( valor , siguiente )\n",
        "# Transversal\n",
        "curr_node = head\n",
        "while curr_node != None:\n",
        "  print(f\"| { curr_node.data } | --> \" , end = \"\")\n",
        "  curr_node = curr_node.next\n",
        "print(\"\")\n",
        "\n",
        "# Imprimir el primero\n",
        "print( head.data )\n",
        "# Imprimir el último \n",
        "curr_node = head\n",
        "while curr_node.next != None:\n",
        "  curr_node = curr_node.next\n",
        "print( curr_node.data)\n",
        "\n",
        "# Insertar el Nodo 25, después del nodo 20 y antesd del Nodo 30\n",
        "curr_node = head\n",
        "while curr_node.data != 20:\n",
        "  curr_node = curr_node.next\n",
        "print( curr_node.data )\n",
        "\n",
        "# crear el nodo 25\n",
        "curr_node.next = Nodo( 25 , curr_node.next )\n",
        "\n",
        "# Transversal\n",
        "curr_node = head\n",
        "while curr_node != None:\n",
        "  print(f\"| { curr_node.data } | --> \" , end = \"\")\n",
        "  curr_node = curr_node.next\n",
        "print(\"\")\n",
        "\n"
      ],
      "execution_count": 6,
      "outputs": [
        {
          "output_type": "stream",
          "name": "stdout",
          "text": [
            "| 10 | --> | 20 | --> | 30 | --> | 40 | --> \n",
            "10\n",
            "40\n",
            "20\n",
            "| 10 | --> | 20 | --> | 25 | --> | 30 | --> | 40 | --> \n"
          ]
        }
      ]
    },
    {
      "cell_type": "code",
      "metadata": {
        "id": "IKCDbhKac4Ph"
      },
      "source": [
        "class LinkedList:\n",
        "  def __init__( self ):\n",
        "    self.head = None\n",
        "\n",
        "  def is_empty( self ): #true o false\n",
        "    return self.head == None\n",
        "\n",
        "  def get_tail( self ):\n",
        "    if self.is_empty():\n",
        "      return None\n",
        "    else:\n",
        "      curr_node = self.head\n",
        "      while curr_node.next != None:\n",
        "        curr_node = curr_node.next\n",
        "      return curr_node\n",
        "\n",
        "  def append( self , value ):\n",
        "    if self.head == None:\n",
        "      self.head = Nodo( value )\n",
        "    else:\n",
        "      curr_node = self.head\n",
        "      while curr_node.next != None:\n",
        "        curr_node = curr_node.next\n",
        "      curr_node.next = Nodo( value ) \n",
        "\n",
        "  def transversal( self ):\n",
        "    curr_node = self.head\n",
        "    while curr_node != None:\n",
        "      print(f\"| { curr_node.data } | -->\" , end = \"\")\n",
        "      curr_node = curr_node.next\n",
        "    print(\"\")\n",
        "\n",
        "  def remove( self , value ):\n",
        "    if self.head == None:\n",
        "      print( \"Lista vacia, no se puede remover nada\")\n",
        "    else:\n",
        "      curr_node = self.head\n",
        "      aux = None\n",
        "      while curr_node.data != value: # revisar cuando el valor no existe\n",
        "        aux = curr_node\n",
        "        curr_node = curr_node.next\n",
        "      \n",
        "      if curr_node != None:\n",
        "        aux.next = curr_node.next\n",
        "        curr_node = None\n",
        "\n",
        "  def prepend( self , value ):\n",
        "    if self.head == None:\n",
        "      print( \"Está vacío, no se puede hacer preppend\" )\n",
        "    else:\n",
        "      aux = self.head\n",
        "      self.head = Nodo( value , aux )\n"
      ],
      "execution_count": 45,
      "outputs": []
    },
    {
      "cell_type": "code",
      "metadata": {
        "colab": {
          "base_uri": "https://localhost:8080/"
        },
        "id": "iAQpJSszfgVZ",
        "outputId": "94e01e3e-012d-45d6-94e0-4e9893baaa02"
      },
      "source": [
        "lista = LinkedList()\n",
        "if lista.is_empty():\n",
        "  print( \"La lista está vacía\" )\n",
        "else: \n",
        "  print( \"La lista no está vacía\" )\n",
        "\n",
        "lista.append( 10 )\n",
        "lista.append( 20 )\n",
        "lista.append( 30 ) \n",
        "lista.append( 40 ) \n",
        "lista.append( 50 ) \n",
        "\n",
        "\n",
        "nodo = lista.get_tail()\n",
        "if nodo != None:\n",
        "  print(nodo.data)\n",
        "else:\n",
        "  print( \"Lista está vacía\" )\n",
        "\n",
        "lista.transversal()\n",
        "lista.remove( 30 )\n",
        "lista.transversal()\n",
        "lista.prepend(5)\n",
        "lista.transversal()"
      ],
      "execution_count": 44,
      "outputs": [
        {
          "output_type": "stream",
          "name": "stdout",
          "text": [
            "La lista está vacía\n",
            "50\n",
            "| 10 | -->| 20 | -->| 30 | -->| 40 | -->| 50 | -->\n",
            "| 10 | -->| 20 | -->| 40 | -->| 50 | -->\n",
            "| 5 | -->| 10 | -->| 20 | -->| 40 | -->| 50 | -->\n"
          ]
        }
      ]
    }
  ]
}