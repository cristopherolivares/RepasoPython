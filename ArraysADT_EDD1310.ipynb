{
  "nbformat": 4,
  "nbformat_minor": 0,
  "metadata": {
    "colab": {
      "name": "ArraysADT_EDD1310.ipynb",
      "provenance": [],
      "authorship_tag": "ABX9TyOV+P0KmkZwuYK/iXxK7VrK",
      "include_colab_link": true
    },
    "kernelspec": {
      "name": "python3",
      "display_name": "Python 3"
    },
    "language_info": {
      "name": "python"
    }
  },
  "cells": [
    {
      "cell_type": "markdown",
      "metadata": {
        "id": "view-in-github",
        "colab_type": "text"
      },
      "source": [
        "<a href=\"https://colab.research.google.com/github/cristopherolivares/RepasoPython/blob/master/ArraysADT_EDD1310.ipynb\" target=\"_parent\"><img src=\"https://colab.research.google.com/assets/colab-badge.svg\" alt=\"Open In Colab\"/></a>"
      ]
    },
    {
      "cell_type": "markdown",
      "metadata": {
        "id": "QDjuaP2df7Qf"
      },
      "source": [
        ""
      ]
    },
    {
      "cell_type": "code",
      "metadata": {
        "colab": {
          "base_uri": "https://localhost:8080/"
        },
        "id": "z2Xe896Afx-F",
        "outputId": "d76afc18-c34a-4718-a758-1e5fcc1c7582"
      },
      "source": [
        "class Array:\n",
        "  def __init__( self, tam ):\n",
        "    self.__tamanio = tam\n",
        "    self.__data = [ 0 for x in range(self.__tamanio) ] # esto es un genrador, da listas de manera automática\n",
        "\n",
        "  def to_string( self ):\n",
        "    info = \"\"\n",
        "    for dato in self.__data:\n",
        "      info = info + str(dato) + \"|\"\n",
        "    return info\n",
        "\n",
        "  def get_item( self, index):\n",
        "    return self.__data[index]\n",
        "\n",
        "  def get_length( self ):\n",
        "    return len( self.__data )\n",
        "\n",
        "  def set_item( self, dato, index):\n",
        "    # hace falta revisar límites\n",
        "    if index >= 0 and index < self.get_length():\n",
        "      self.__data[index] = dato\n",
        "    else: \n",
        "      print( 'Erros: indice fuera de rango')\n",
        "\n",
        "  def clear( self, dato):\n",
        "    self.__data = [ dato for x in range(self.__tamanio) ]\n",
        "\n",
        "\n",
        "ejemplo = Array(20)\n",
        "print(ejemplo.to_string() )\n",
        "print( ejemplo.get_item(2) )\n",
        "ejemplo.set_item( 45, 2 )\n",
        "print( ejemplo.to_string() )\n",
        "ejemplo.clear ( 4 )\n",
        "print( ejemplo.to_string() )\n",
        "print( ejemplo.get_length() )"
      ],
      "execution_count": 2,
      "outputs": [
        {
          "output_type": "stream",
          "name": "stdout",
          "text": [
            "0|0|0|0|0|0|0|0|0|0|0|0|0|0|0|0|0|0|0|0|\n",
            "0\n",
            "0|0|45|0|0|0|0|0|0|0|0|0|0|0|0|0|0|0|0|0|\n",
            "4|4|4|4|4|4|4|4|4|4|4|4|4|4|4|4|4|4|4|4|\n",
            "20\n"
          ]
        }
      ]
    },
    {
      "cell_type": "code",
      "metadata": {
        "colab": {
          "base_uri": "https://localhost:8080/"
        },
        "id": "IgTASatvg4iE",
        "outputId": "5eb8c95c-5b5b-4b3d-d892-338a34557881"
      },
      "source": [
        "lista = [ 3 for x in range(5)]\n",
        "print( lista)"
      ],
      "execution_count": 37,
      "outputs": [
        {
          "output_type": "stream",
          "name": "stdout",
          "text": [
            "[3, 3, 3, 3, 3]\n"
          ]
        }
      ]
    },
    {
      "cell_type": "code",
      "metadata": {
        "colab": {
          "base_uri": "https://localhost:8080/"
        },
        "id": "0KzaUKWPghPO",
        "outputId": "329f0030-679e-4fc6-a77b-43c250c28d7f"
      },
      "source": [
        "lista = [ 3 * x for x in range(5)]\n",
        "print( lista)"
      ],
      "execution_count": 35,
      "outputs": [
        {
          "output_type": "stream",
          "name": "stdout",
          "text": [
            "[0, 3, 6, 9, 12]\n"
          ]
        }
      ]
    },
    {
      "cell_type": "markdown",
      "metadata": {
        "id": "zPod5DrMn3fs"
      },
      "source": [
        "La carpeta de datos volatil"
      ]
    },
    {
      "cell_type": "code",
      "metadata": {
        "colab": {
          "base_uri": "https://localhost:8080/"
        },
        "id": "WlWDlQU-qWJ_",
        "outputId": "e8611e0d-ca65-41a4-9adc-2ea24660c80b"
      },
      "source": [
        "!cat junio.dat"
      ],
      "execution_count": 4,
      "outputs": [
        {
          "output_type": "stream",
          "name": "stdout",
          "text": [
            "numero de trabajador, nombres, paterno, materno, horas extra, sueldo base, año de ingreso\r\n",
            "2345,CARLOS,PEREZ,CASTILLO,0,9850,2017\r\n",
            "5754,ANGEL,GOMEZ,GARRIDO,1,9850,2020\r\n",
            "5345,JESUS,MARTIN,SANTOS,2,9850,2016\r\n",
            "3267,DAVID,JIMENEZ,LOZANO,2,9850,2017\r\n",
            "8765,PEDRO,RUIZ,GUERRERO,2,9850,2017\r\n",
            "5454,DANIEL,HERNANDEZ,CANO,3,9850,2018\r\n",
            "3456,ALEJANDRO,DIAZ,PRIETO,2,9850,2018\r\n",
            "3445,MARIA,MORENO,MENDEZ,1,9850,2018\r\n",
            "9088,ALBERTO,MU�OZ,CRUZ,1,9850,2017\r\n",
            "8877,RAFAEL,ALVAREZ,FLORES,2,9850,2017\r\n",
            "6767,FERNANDO,ROMERO,HERRERA,4,9850,2019\r\n",
            "5654,PABLO,ALONSO,GALLEGO,1,9850,2019\r\n",
            "4323,JORGE,GUTIERREZ,MARQUEZ,2,9850,2020\r\n",
            "2232,RAMON,NAVARRO,LEON,1,9850,2016"
          ]
        }
      ]
    },
    {
      "cell_type": "code",
      "metadata": {
        "colab": {
          "base_uri": "https://localhost:8080/"
        },
        "id": "ogomtK4dnHAm",
        "outputId": "84c4de59-b712-4a4d-8a85-1f4cf983c89d"
      },
      "source": [
        "archivo = open('junio.dat','rt', encoding='latin-1')\n",
        "print(archivo.read())"
      ],
      "execution_count": 3,
      "outputs": [
        {
          "output_type": "stream",
          "name": "stdout",
          "text": [
            "numero de trabajador, nombres, paterno, materno, horas extra, sueldo base, aÃ±o de ingreso\n",
            "2345,CARLOS,PEREZ,CASTILLO,0,9850,2017\n",
            "5754,ANGEL,GOMEZ,GARRIDO,1,9850,2020\n",
            "5345,JESUS,MARTIN,SANTOS,2,9850,2016\n",
            "3267,DAVID,JIMENEZ,LOZANO,2,9850,2017\n",
            "8765,PEDRO,RUIZ,GUERRERO,2,9850,2017\n",
            "5454,DANIEL,HERNANDEZ,CANO,3,9850,2018\n",
            "3456,ALEJANDRO,DIAZ,PRIETO,2,9850,2018\n",
            "3445,MARIA,MORENO,MENDEZ,1,9850,2018\n",
            "9088,ALBERTO,MUOZ,CRUZ,1,9850,2017\n",
            "8877,RAFAEL,ALVAREZ,FLORES,2,9850,2017\n",
            "6767,FERNANDO,ROMERO,HERRERA,4,9850,2019\n",
            "5654,PABLO,ALONSO,GALLEGO,1,9850,2019\n",
            "4323,JORGE,GUTIERREZ,MARQUEZ,2,9850,2020\n",
            "2232,RAMON,NAVARRO,LEON,1,9850,2016\n"
          ]
        }
      ]
    },
    {
      "cell_type": "code",
      "metadata": {
        "id": "LsOrwsnsn9hK"
      },
      "source": [
        "class Trabajador:\n",
        "  def __init__( self, nt, nom, pat, mat, he, sb, ai ):\n",
        "    self.__numero_trabajador = nt\n",
        "    self.__ = nom\n",
        "    self.__ = pat\n",
        "    self.__ = mat\n",
        "    self.__ = he\n",
        "    self.__ = sb \n",
        "    self.__ = ai\n",
        "\n",
        "  # aqui van todos los métodos de acceso\n",
        "  def set_numero_trabajador( self , nt):\n",
        "    self.__numero_trabajador = nt\n",
        "\n",
        "  # métodos de uso general. --> métodos que hacen calculos de la logistica"
      ],
      "execution_count": null,
      "outputs": []
    },
    {
      "cell_type": "code",
      "metadata": {
        "id": "xO2HfifrqD2k"
      },
      "source": [
        "class NominaADT:\n",
        "  def __init__( self, ruta_archivo ):\n",
        "    # arbir el archivo y determinar el número de empleados  \n",
        "    self.__data = Array( num_emp )\n",
        "\n",
        "  def calcular_sueldos( self ):\n",
        "    #iterar sobre el Array y hacer el calculo de sueldos\n",
        "\n",
        "  def buscar_mas_antiguo( self):\n",
        "    #iterar y buscará en el array el de mayor antiguedad en el puesto \n",
        "\n",
        "  def buscar_menor_antiguedad ( self):\n",
        "    # idem\n"
      ],
      "execution_count": null,
      "outputs": []
    },
    {
      "cell_type": "code",
      "metadata": {
        "colab": {
          "base_uri": "https://localhost:8080/"
        },
        "id": "GRCQd8brr9lJ",
        "outputId": "da446332-c45a-466a-eb62-81db4bd01465"
      },
      "source": [
        "sueldo_base = 100\n",
        "anio = 2019\n",
        "anti = 2\n",
        "prestacion = 100 * (2 * 0.03)\n",
        "print( sueldo_base + prestacion )"
      ],
      "execution_count": 7,
      "outputs": [
        {
          "output_type": "stream",
          "name": "stdout",
          "text": [
            "106.0\n"
          ]
        }
      ]
    }
  ]
}