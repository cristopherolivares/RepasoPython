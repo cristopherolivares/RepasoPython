{
  "nbformat": 4,
  "nbformat_minor": 0,
  "metadata": {
    "colab": {
      "name": "ArraysADT_EDD1310.ipynb",
      "provenance": [],
      "authorship_tag": "ABX9TyPX0//e+YK/jjX0m51mwf3x",
      "include_colab_link": true
    },
    "kernelspec": {
      "name": "python3",
      "display_name": "Python 3"
    },
    "language_info": {
      "name": "python"
    }
  },
  "cells": [
    {
      "cell_type": "markdown",
      "metadata": {
        "id": "view-in-github",
        "colab_type": "text"
      },
      "source": [
        "<a href=\"https://colab.research.google.com/github/cristopherolivares/RepasoPython/blob/master/ArraysADT_EDD1310.ipynb\" target=\"_parent\"><img src=\"https://colab.research.google.com/assets/colab-badge.svg\" alt=\"Open In Colab\"/></a>"
      ]
    },
    {
      "cell_type": "markdown",
      "metadata": {
        "id": "QDjuaP2df7Qf"
      },
      "source": [
        ""
      ]
    },
    {
      "cell_type": "code",
      "metadata": {
        "colab": {
          "base_uri": "https://localhost:8080/"
        },
        "id": "z2Xe896Afx-F",
        "outputId": "fbd0a03c-8573-43d5-916c-8ce5e081e893"
      },
      "source": [
        "class Array:\n",
        "  def __init__( self , tam ):\n",
        "    self.__tamanio = tam\n",
        "    self.__data = [ 0 for x in range(self.__tamanio) ] #este es un genrador de listas automático\n",
        "\n",
        "  def to_string( self ):\n",
        "    info = \"\"\n",
        "    for dato in self.__data:\n",
        "      info = info + str(dato) +\"|\"\n",
        "    return info\n",
        "\n",
        "  def get_item( self , index ):\n",
        "    return self.__data[index]\n",
        "\n",
        "  def get_length( self ):\n",
        "    return len( self.__data )\n",
        "\n",
        "  def set_item( self , dato , index):\n",
        "  # hace falta revisar limites\n",
        "    if index >= 0 and index < self.get_length():\n",
        "      self.__data[index] = dato\n",
        "    else:\n",
        "      print(\"Error: indice fuera de rango\")\n",
        "\n",
        "  def clear( self , dato ):\n",
        "    self.__data = [ dato for x in range(self.__tamanio) ]\n",
        "\n",
        "\n",
        "\n",
        "ejemplo = Array(20)\n",
        "print(ejemplo.to_string() )\n",
        "print( ejemplo.get_item(2) )\n",
        "ejemplo.set_item( 45, 2 )\n",
        "print( ejemplo.to_string() )\n",
        "ejemplo.clear ( 4 )\n",
        "print( ejemplo.to_string() )\n",
        "print( ejemplo.get_length() )"
      ],
      "execution_count": null,
      "outputs": [
        {
          "output_type": "stream",
          "name": "stdout",
          "text": [
            "0|0|0|0|0|0|0|0|0|0|0|0|0|0|0|0|0|0|0|0|\n",
            "0\n",
            "0|0|45|0|0|0|0|0|0|0|0|0|0|0|0|0|0|0|0|0|\n",
            "4|4|4|4|4|4|4|4|4|4|4|4|4|4|4|4|4|4|4|4|\n",
            "20\n"
          ]
        }
      ]
    },
    {
      "cell_type": "code",
      "metadata": {
        "colab": {
          "base_uri": "https://localhost:8080/"
        },
        "id": "IgTASatvg4iE",
        "outputId": "cc5aae6b-eeab-488a-85c5-854cfa817643"
      },
      "source": [
        "lista = [ 3 for x in range(5)]\n",
        "print( lista)"
      ],
      "execution_count": null,
      "outputs": [
        {
          "output_type": "stream",
          "name": "stdout",
          "text": [
            "[3, 3, 3, 3, 3]\n"
          ]
        }
      ]
    },
    {
      "cell_type": "code",
      "metadata": {
        "colab": {
          "base_uri": "https://localhost:8080/"
        },
        "id": "0KzaUKWPghPO",
        "outputId": "329f0030-679e-4fc6-a77b-43c250c28d7f"
      },
      "source": [
        "lista = [ 3 * x for x in range(5)]\n",
        "print( lista)"
      ],
      "execution_count": null,
      "outputs": [
        {
          "output_type": "stream",
          "name": "stdout",
          "text": [
            "[0, 3, 6, 9, 12]\n"
          ]
        }
      ]
    },
    {
      "cell_type": "markdown",
      "metadata": {
        "id": "zPod5DrMn3fs"
      },
      "source": [
        "La carpeta de datos volatil"
      ]
    },
    {
      "cell_type": "code",
      "metadata": {
        "colab": {
          "base_uri": "https://localhost:8080/"
        },
        "id": "WlWDlQU-qWJ_",
        "outputId": "c8fc970e-7dc6-4d6d-cbde-b5e88dc098ca"
      },
      "source": [
        "!cat junio.dat"
      ],
      "execution_count": null,
      "outputs": [
        {
          "output_type": "stream",
          "name": "stdout",
          "text": [
            "numero de trabajador, nombres, paterno, materno, horas extra, sueldo base, año de ingreso\r\n",
            "2345,CARLOS,PEREZ,CASTILLO,0,9850,2017\r\n",
            "5754,ANGEL,GOMEZ,GARRIDO,1,9850,2020\r\n",
            "5345,JESUS,MARTIN,SANTOS,2,9850,2016\r\n",
            "3267,DAVID,JIMENEZ,LOZANO,2,9850,2017\r\n",
            "8765,PEDRO,RUIZ,GUERRERO,2,9850,2017\r\n",
            "5454,DANIEL,HERNANDEZ,CANO,3,9850,2018\r\n",
            "3456,ALEJANDRO,DIAZ,PRIETO,2,9850,2018\r\n",
            "3445,MARIA,MORENO,MENDEZ,1,9850,2018\r\n",
            "9088,ALBERTO,MU�OZ,CRUZ,1,9850,2017\r\n",
            "8877,RAFAEL,ALVAREZ,FLORES,2,9850,2017\r\n",
            "6767,FERNANDO,ROMERO,HERRERA,4,9850,2019\r\n",
            "5654,PABLO,ALONSO,GALLEGO,1,9850,2019\r\n",
            "4323,JORGE,GUTIERREZ,MARQUEZ,2,9850,2020\r\n",
            "2232,RAMON,NAVARRO,LEON,1,9850,2016"
          ]
        }
      ]
    },
    {
      "cell_type": "code",
      "metadata": {
        "colab": {
          "base_uri": "https://localhost:8080/"
        },
        "id": "ogomtK4dnHAm",
        "outputId": "ac52047a-ec39-43a8-f7ea-15799054690d"
      },
      "source": [
        "archivo = open('junio.dat','rt', encoding='latin-1')\n",
        "print(archivo.readlines())"
      ],
      "execution_count": null,
      "outputs": [
        {
          "output_type": "stream",
          "name": "stdout",
          "text": [
            "['numero de trabajador, nombres, paterno, materno, horas extra, sueldo base, aÃ±o de ingreso\\n', '2345,CARLOS,PEREZ,CASTILLO,0,9850,2017\\n', '5754,ANGEL,GOMEZ,GARRIDO,1,9850,2020\\n', '5345,JESUS,MARTIN,SANTOS,2,9850,2016\\n', '3267,DAVID,JIMENEZ,LOZANO,2,9850,2017\\n', '8765,PEDRO,RUIZ,GUERRERO,2,9850,2017\\n', '5454,DANIEL,HERNANDEZ,CANO,3,9850,2018\\n', '3456,ALEJANDRO,DIAZ,PRIETO,2,9850,2018\\n', '3445,MARIA,MORENO,MENDEZ,1,9850,2018\\n', '9088,ALBERTO,MU\\x84OZ,CRUZ,1,9850,2017\\n', '8877,RAFAEL,ALVAREZ,FLORES,2,9850,2017\\n', '6767,FERNANDO,ROMERO,HERRERA,4,9850,2019\\n', '5654,PABLO,ALONSO,GALLEGO,1,9850,2019\\n', '4323,JORGE,GUTIERREZ,MARQUEZ,2,9850,2020\\n', '2232,RAMON,NAVARRO,LEON,1,9850,2016']\n"
          ]
        }
      ]
    },
    {
      "cell_type": "code",
      "metadata": {
        "id": "LsOrwsnsn9hK",
        "colab": {
          "base_uri": "https://localhost:8080/"
        },
        "outputId": "177894c5-a361-450c-bebd-58b5f2006a1b"
      },
      "source": [
        "class Trabajador:\n",
        "  def __init__( self, nt, nom, pat, mat, he, sb, ai ):\n",
        "    self.__numero_trabajador = nt\n",
        "    self.__nombre = nom\n",
        "    self.__ape_paterno = pat\n",
        "    self.__ape_materno = mat\n",
        "    self.__horas_extra = he\n",
        "    self.__sueldo_base = sb \n",
        "    self.__anio_ingreso = ai\n",
        "\n",
        "  # aqui van todos los métodos de acceso\n",
        "  def set_numero_trabajador( self , nt):\n",
        "    self.__numero_trabajador = nt\n",
        "    \n",
        "  def get_numero_trabajador( self ):\n",
        "    return self.__numero_trabajador\n",
        "\n",
        "  def set_nombre( self, nom):\n",
        "    self.__nombre = nom\n",
        "\n",
        "  def get_nombre( self ):\n",
        "    return self.__nombre\n",
        "\n",
        "  def set_ape_paterno( self, pat):\n",
        "    self.__ape_paterno = pat\n",
        "\n",
        "  def get_ape_paterno( self ):\n",
        "    return self.__ape_paterno\n",
        "  \n",
        "  def set_ape_materno( self, mat):\n",
        "    self.__ape_materno = mat\n",
        "\n",
        "  def get_ape_materno( self ):\n",
        "    return self.__ape_materno\n",
        "  \n",
        "  def set_horas_extra( self, he):\n",
        "    self.__horas_extra = he\n",
        "\n",
        "  def get_horas_extra( self ):\n",
        "    return self.__horas_extra\n",
        "  \n",
        "  def set_sueldo_base( self, sb):\n",
        "    self.__sueldo_base = sb\n",
        "\n",
        "  def get_sueldo_base( self ):\n",
        "    return self.__sueldo_base\n",
        "  \n",
        "  def set_( self, ai):\n",
        "    self.__anio_ingreso = ai\n",
        "\n",
        "  def get_anio_ingreso( self ):\n",
        "    return self.__anio_ingreso\n",
        "  \n",
        "  # métodos de uso general. --> métodos que hacen calculos de la logistica\n",
        "\n",
        "  def calcular_sueldo_mensual ( self ):\n",
        "    anios = 2021 - self.get_anio_ingreso()\n",
        "    \n",
        "    sueldo = self.get_sueldo_base()\n",
        "    # agregarle horas extra\n",
        "    sueldo += self.get_horas_extra() * 276.5\n",
        "    # agregar prestaciones por antiguedad\n",
        "    sueldo = sueldo + (sueldo * anios * 0.03)\n",
        "    return sueldo\n",
        "\n",
        "  def to_string( self ):\n",
        "    return 'Nombre:' + self.__nombre + ' Sueldo: $' + str(self.calcular_sueldo_mensual())\n",
        "\n",
        "  def calcular_antiguedad ( self ): \n",
        "    return 2021 - self.get_anio_ingreso()\n",
        "\n",
        "emp = Trabajador( 2345,'CARLOS','PEREZ','CASTILLO',1,9850,2017)\n",
        "print( emp.get_sueldo_base())\n",
        "print( emp.get_horas_extra())\n",
        "print( emp.calcular_antiguedad())\n",
        "print( emp.to_string())"
      ],
      "execution_count": null,
      "outputs": [
        {
          "output_type": "stream",
          "name": "stdout",
          "text": [
            "9850\n",
            "1\n",
            "4\n",
            "Nombre:CARLOS Sueldo: $11341.68\n"
          ]
        }
      ]
    },
    {
      "cell_type": "code",
      "metadata": {
        "id": "xO2HfifrqD2k",
        "colab": {
          "base_uri": "https://localhost:8080/"
        },
        "outputId": "ab446625-2347-4c25-c6f7-9afa72e8de63"
      },
      "source": [
        "class NominaADT:\n",
        "  def __init__( self, ruta_archivo ):\n",
        "    # arbir el archivo y determinar el número de empleados ---> num_emp\n",
        "    archivo = open( ruta_archivo, 'rt', encoding = 'latin_1')\n",
        "    empleados = archivo.readlines()\n",
        "    del empleados [0]\n",
        "    for index in range( len( empleados)):\n",
        "      empleados [ index] = empleados [index].strip().split(',')\n",
        "    self.__data = Array( len(empleados))\n",
        "    cont = 0\n",
        "    for emp in empleados:\n",
        "      tmp = Trabajador( int(emp[0]) , emp[1] , emp[2] , emp[3] , int(emp[4]) , int(emp[5]) , int(emp[6]) )\n",
        "      self.__data.set_item( tmp , cont )\n",
        "      cont += 1\n",
        "\n",
        "  def buscar_mas_antiguo( self ):\n",
        "    #iterar y buscará en el array el de mayor antiguedad en el puesto \n",
        "    pass\n",
        "\n",
        "  def buscar_menor_antiguedad ( self ):\n",
        "    #idem\n",
        "    pass\n",
        "\n",
        "  def calcular_sueldos( self ):\n",
        "    for index in range(self.__data.get_length()):\n",
        "      print( self.__data.get_item(index).to_string() )\n",
        "\n",
        "ejemplo = NominaADT ( 'junio.dat' )\n",
        "ejemplo.calcular_sueldos()"
      ],
      "execution_count": null,
      "outputs": [
        {
          "output_type": "stream",
          "name": "stdout",
          "text": [
            "Nombre:CARLOS Sueldo: $11032.0\n",
            "Nombre:ANGEL Sueldo: $10430.295\n",
            "Nombre:JESUS Sueldo: $11963.45\n",
            "Nombre:DAVID Sueldo: $11651.36\n",
            "Nombre:PEDRO Sueldo: $11651.36\n",
            "Nombre:DANIEL Sueldo: $11640.655\n",
            "Nombre:ALEJANDRO Sueldo: $11339.27\n",
            "Nombre:MARIA Sueldo: $11037.885\n",
            "Nombre:ALBERTO Sueldo: $11341.68\n",
            "Nombre:RAFAEL Sueldo: $11651.36\n",
            "Nombre:FERNANDO Sueldo: $11613.36\n",
            "Nombre:PABLO Sueldo: $10734.09\n",
            "Nombre:JORGE Sueldo: $10715.09\n",
            "Nombre:RAMON Sueldo: $11645.475\n"
          ]
        }
      ]
    },
    {
      "cell_type": "code",
      "metadata": {
        "colab": {
          "base_uri": "https://localhost:8080/"
        },
        "id": "GRCQd8brr9lJ",
        "outputId": "caa93dcf-ddfc-44bd-d1d8-e1e77266ec40"
      },
      "source": [
        "sueldo_base = 100\n",
        "anio = 2019\n",
        "anti = 2\n",
        "prestacion = 100 * (2 * 0.03)\n",
        "print( sueldo_base + prestacion )"
      ],
      "execution_count": null,
      "outputs": [
        {
          "output_type": "stream",
          "name": "stdout",
          "text": [
            "106.0\n"
          ]
        }
      ]
    }
  ]
}