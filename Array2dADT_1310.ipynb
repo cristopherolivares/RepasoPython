{
  "nbformat": 4,
  "nbformat_minor": 0,
  "metadata": {
    "colab": {
      "name": "Array2dADT_1310.ipynb",
      "provenance": [],
      "authorship_tag": "ABX9TyPzFf/Dj6lRkygB6YB7GjCn",
      "include_colab_link": true
    },
    "kernelspec": {
      "name": "python3",
      "display_name": "Python 3"
    },
    "language_info": {
      "name": "python"
    }
  },
  "cells": [
    {
      "cell_type": "markdown",
      "metadata": {
        "id": "view-in-github",
        "colab_type": "text"
      },
      "source": [
        "<a href=\"https://colab.research.google.com/github/cristopherolivares/RepasoPython/blob/master/Array2dADT_1310.ipynb\" target=\"_parent\"><img src=\"https://colab.research.google.com/assets/colab-badge.svg\" alt=\"Open In Colab\"/></a>"
      ]
    },
    {
      "cell_type": "code",
      "metadata": {
        "id": "vz25ROOwnMdX"
      },
      "source": [
        "class Array2DADT:\n",
        "  def __init__( self , ren , col ):\n",
        "    self.__pollo = [ [0 for y in range( col ) ] for x in range( ren ) ]\n",
        "  \n",
        "  def clear( self , dato ):\n",
        "    self.__pollo = [ [ dato for y in range( self.get_col_size() ) ] for x in range( self.get_row_size() ) ]\n",
        "\n",
        "  def get_row_size( self ):\n",
        "    return len( self.__pollo )\n",
        "\n",
        "  def get_col_size( self ):\n",
        "    return len( self.__pollo[ 0 ] )\n",
        "  \n",
        "  def set_item( self , ren , col , dato ):\n",
        "    self.__pollo[ ren ][ col ] = dato\n",
        "\n",
        "  def get_item( self , ren , col ):\n",
        "    return self.__pollo[ ren ][ col ]\n",
        "\n",
        "  def to_string( self ):\n",
        "    cadena = \"\"\n",
        "    for renglon in self.__pollo:\n",
        "      cadena = cadena + \" | \"\n",
        "      for dato in renglon:\n",
        "        cadena = cadena + str(dato) + \" | \"\n",
        "      cadena = cadena + \"\\n\"\n",
        "    return cadena"
      ],
      "execution_count": 16,
      "outputs": []
    },
    {
      "cell_type": "code",
      "metadata": {
        "colab": {
          "base_uri": "https://localhost:8080/"
        },
        "id": "rIe41BnXoi3W",
        "outputId": "0ee7edd7-2e23-4e7b-a35e-ab5b2a5b4f03"
      },
      "source": [
        "a2d = Array2DADT( 3 , 6 )\n",
        "print( f\"Ren: { a2d.get_row_size() }\" )\n",
        "print( f\"Col: { a2d.get_col_size() }\" )\n",
        "print( a2d.to_string() )\n",
        "print( \"\" )\n",
        "a2d.clear ( \"M\" )\n",
        "print( a2d.to_string() )\n",
        "\n",
        "a2d.set_item ( 2 , 3 , 'P' )\n",
        "print( a2d.to_string() )\n",
        "print( a2d.get_item( 2 , 3 ) )"
      ],
      "execution_count": 46,
      "outputs": [
        {
          "output_type": "stream",
          "name": "stdout",
          "text": [
            "Ren: 3\n",
            "Col: 6\n",
            " | 0 | 0 | 0 | 0 | 0 | 0 | \n",
            " | 0 | 0 | 0 | 0 | 0 | 0 | \n",
            " | 0 | 0 | 0 | 0 | 0 | 0 | \n",
            "\n",
            "\n",
            " | M | M | M | M | M | M | \n",
            " | M | M | M | M | M | M | \n",
            " | M | M | M | M | M | M | \n",
            "\n",
            " | M | M | M | M | M | M | \n",
            " | M | M | M | M | M | M | \n",
            " | M | M | M | P | M | M | \n",
            "\n",
            "P\n"
          ]
        }
      ]
    },
    {
      "cell_type": "code",
      "metadata": {
        "id": "zVd265TM4gQ_"
      },
      "source": [
        "\"\"\"\n",
        "Los datos iniciales como lo son:\n",
        "1.-Tamaño de la población (ren y col)\n",
        "2.-La población inicial.\n",
        "3.-El numero de genraciones a simular.\n",
        "\n",
        "Estarán proporcionadas por un archivo de entrada separado por comas (CSV)\n",
        "\n",
        "5 \n",
        "5\n",
        "0,0,0,0,0\n",
        "0,0,1,0,0\n",
        "0,1,1,1,0\n",
        "0,0,0,0,0\n",
        "0,0,0,0,0\n",
        "10\n",
        "\n",
        "\"\"\"\n",
        "class JuegoDeLaVida:\n",
        "  def __init__( self , ruta_archivo ):\n",
        "    self.rens = None\n",
        "    self.cols = None\n",
        "    self.tablero = None\n",
        "    self.generaciones = None\n",
        "    self.read_game_data( ruta_archivo )\n",
        "\n",
        "  def read_game_data( self , archivo ):\n",
        "    archivo = open( archivo , 'rt' )\n",
        "    lineas = archivo.readlines()\n",
        "    for index in range( len( lineas ) ):\n",
        "      lineas[ index ] = lineas [ index ].strip()\n",
        "    print( lineas )\n",
        "    self.rens = int( lineas[ 0 ] ) \n",
        "    self.cols = int( lineas[ 1 ] ) \n",
        "    self.tablero = Array2DADT( self.rens , self.cols )\n",
        "    r = 0\n",
        "    c = 0\n",
        "    for index in range( 2 , 2 + self.rens , 1 ):\n",
        "      c = 0\n",
        "      for dato in lineas[ index ].split(','):\n",
        "        self.tablero.set_item( r , c , int( dato ) )\n",
        "        c += 1\n",
        "      r += 1\n",
        "    self.generaciones = int( lineas[ -1 ] )\n",
        "    print( \"Gens: \" , self.generaciones )\n",
        "\n",
        "    print( self.tablero.to_string() )\n",
        "\n",
        "  def get_vecinos( self , r , c):\n",
        "    vecinos = []\n",
        "    for ren in range( r-1 , r+2 , 1 ):\n",
        "      for col in range(c-1 , c+2 , 1):\n",
        "        if ren < 0 or ren >= self.tablero.get_row_size() or col < 0 or col >= self.tablero.get_col_size() or (ren==r and col==c):\n",
        "          pass\n",
        "        else:\n",
        "          vecinos.append( ( ren , col ) )\n",
        "    return vecinos\n",
        "\n",
        "  def get_vecinos_vivos( self , r , c ):\n",
        "    vecinos = self.get_vecinos( r , c )\n",
        "    vivos = 0 \n",
        "    for par in vecinos:\n",
        "      if self.tablero.get_item( par[ 0 ] , par[ 1 ] ) == 1:\n",
        "        vivos += 1 \n",
        "    return vivos\n",
        "\n",
        "  def calcular_siguiente( self ):\n",
        "    nueva_gen = Array2DADT( self.rens , self.cols )\n",
        "    # aplicar 4 reglas a cada céluula y el resultado ponerlo a una nueva_gen\n",
        "    for ren in range( self.rens ):\n",
        "      for col in range( self.cols ):\n",
        "        print(f\"{ren} , {col} -->{self.get_vecinos_vivos( ren , col )}\")\n",
        "        pass\n",
        "    \n",
        "    self.tablero = nueva_gen\n",
        "\n",
        "    \n",
        "\n"
      ],
      "execution_count": 81,
      "outputs": []
    },
    {
      "cell_type": "code",
      "metadata": {
        "colab": {
          "base_uri": "https://localhost:8080/"
        },
        "id": "SiYF6TUoOhCi",
        "outputId": "84c1443e-b5bd-4673-8ab9-46c2f92c5296"
      },
      "source": [
        "!cat entrada.txt"
      ],
      "execution_count": 69,
      "outputs": [
        {
          "output_type": "stream",
          "name": "stdout",
          "text": [
            "5 \r\n",
            "5\r\n",
            "0,0,0,0,0\r\n",
            "0,0,1,0,0\r\n",
            "0,1,1,1,0\r\n",
            "0,0,0,0,0\r\n",
            "0,0,0,0,0\r\n",
            "10"
          ]
        }
      ]
    },
    {
      "cell_type": "code",
      "metadata": {
        "colab": {
          "base_uri": "https://localhost:8080/"
        },
        "id": "oUcbFb7F6gJO",
        "outputId": "cef32fb9-36ce-41a1-b835-61d2f9729e38"
      },
      "source": [
        "juego = JuegoDeLaVida( \"entrada.txt\" )\n",
        "print(juego.get_vecinos_vivos( 1 , 2))"
      ],
      "execution_count": 82,
      "outputs": [
        {
          "output_type": "stream",
          "name": "stdout",
          "text": [
            "['5', '5', '0,0,0,0,0', '0,0,1,0,0', '0,1,1,1,0', '0,0,0,0,0', '0,0,0,0,0', '10']\n",
            "Gens:  10\n",
            " | 0 | 0 | 0 | 0 | 0 | \n",
            " | 0 | 0 | 1 | 0 | 0 | \n",
            " | 0 | 1 | 1 | 1 | 0 | \n",
            " | 0 | 0 | 0 | 0 | 0 | \n",
            " | 0 | 0 | 0 | 0 | 0 | \n",
            "\n",
            "3\n"
          ]
        }
      ]
    }
  ]
}