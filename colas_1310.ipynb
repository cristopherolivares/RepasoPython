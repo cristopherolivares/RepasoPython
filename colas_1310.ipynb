{
  "nbformat": 4,
  "nbformat_minor": 0,
  "metadata": {
    "colab": {
      "name": "colas_1310.ipynb",
      "provenance": [],
      "authorship_tag": "ABX9TyMpGCShXFg5QkmHzNk12hez",
      "include_colab_link": true
    },
    "kernelspec": {
      "name": "python3",
      "display_name": "Python 3"
    },
    "language_info": {
      "name": "python"
    }
  },
  "cells": [
    {
      "cell_type": "markdown",
      "metadata": {
        "id": "view-in-github",
        "colab_type": "text"
      },
      "source": [
        "<a href=\"https://colab.research.google.com/github/cristopherolivares/RepasoPython/blob/master/colas_1310.ipynb\" target=\"_parent\"><img src=\"https://colab.research.google.com/assets/colab-badge.svg\" alt=\"Open In Colab\"/></a>"
      ]
    },
    {
      "cell_type": "markdown",
      "metadata": {
        "id": "_eerZkwQKm8R"
      },
      "source": [
        ""
      ]
    },
    {
      "cell_type": "code",
      "metadata": {
        "id": "2p5RFVwHKJki"
      },
      "source": [
        "class Queue:\n",
        "  def __init__( self ):\n",
        "    self.data = []\n",
        "    \n",
        "  def is_empty( self ):\n",
        "    return len( self.data ) == 0\n",
        "\n",
        "  def lenght( self ):\n",
        "    return len( self.data )\n",
        "\n",
        "  def enqueue( self , value ):\n",
        "    self.data.append( value )\n",
        "\n",
        "  def dequeue( self ):\n",
        "    return self.data.pop( 0 )\n",
        "\n",
        "  def to_string( self ):\n",
        "    for elem in self.data:\n",
        "      print( f\"| { elem } | <--\" , end =\"\")\n",
        "    print(\"\")"
      ],
      "execution_count": 1,
      "outputs": []
    },
    {
      "cell_type": "code",
      "metadata": {
        "colab": {
          "base_uri": "https://localhost:8080/"
        },
        "id": "e12LESpMNhU_",
        "outputId": "e20dfb62-4b7d-4db1-f170-2f9c5ab0b850"
      },
      "source": [
        "cola = Queue()\n",
        "print( \"Está vació: \" , cola.is_empty())\n",
        "print( \"Número de elementos = \" , cola.lenght())\n",
        "cola.enqueue(10)\n",
        "cola.enqueue(20)\n",
        "cola.enqueue(30)\n",
        "print( \"Está vació: \" , cola.is_empty())\n",
        "print( \"Número de elementos = \" , cola.lenght())\n",
        "cola.enqueue(40)\n",
        "cola.enqueue(50)\n",
        "cola.enqueue(60)\n",
        "cola.to_string()\n",
        "siguiente = cola.dequeue()\n",
        "print( \"Atendiendo a\" , siguiente )\n",
        "cola.to_string()"
      ],
      "execution_count": 10,
      "outputs": [
        {
          "output_type": "stream",
          "name": "stdout",
          "text": [
            "Está vació:  True\n",
            "Número de elementos =  0\n",
            "Está vació:  False\n",
            "Número de elementos =  3\n",
            "| 10 | <--| 20 | <--| 30 | <--| 40 | <--| 50 | <--| 60 | <--\n",
            "Atendiendo a 10\n",
            "| 20 | <--| 30 | <--| 40 | <--| 50 | <--| 60 | <--\n"
          ]
        }
      ]
    },
    {
      "cell_type": "markdown",
      "metadata": {
        "id": "xapBV_5DQuyZ"
      },
      "source": [
        "# Varientes del ADT cola\n",
        "1. Circulares\n",
        "2. Prioridad\n",
        "  1. Acotada\n",
        "  1. No acotada "
      ]
    }
  ]
}