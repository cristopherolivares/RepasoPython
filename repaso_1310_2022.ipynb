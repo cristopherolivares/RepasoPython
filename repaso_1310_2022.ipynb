{
  "nbformat": 4,
  "nbformat_minor": 0,
  "metadata": {
    "colab": {
      "name": "repaso_1310_2022.ipynb",
      "provenance": [],
      "authorship_tag": "ABX9TyMUM86y0BbvDQFO/GYb/TNT",
      "include_colab_link": true
    },
    "kernelspec": {
      "name": "python3",
      "display_name": "Python 3"
    },
    "language_info": {
      "name": "python"
    }
  },
  "cells": [
    {
      "cell_type": "markdown",
      "metadata": {
        "id": "view-in-github",
        "colab_type": "text"
      },
      "source": [
        "<a href=\"https://colab.research.google.com/github/cristopherolivares/RepasoPython/blob/master/repaso_1310_2022.ipynb\" target=\"_parent\"><img src=\"https://colab.research.google.com/assets/colab-badge.svg\" alt=\"Open In Colab\"/></a>"
      ]
    },
    {
      "cell_type": "markdown",
      "metadata": {
        "id": "gcWrkY-CfTv8"
      },
      "source": [
        "#Repaso de programción con python 3\n",
        "\n",
        "### EDD 1310\n",
        "\n",
        "La función priint\n"
      ]
    },
    {
      "cell_type": "code",
      "metadata": {
        "colab": {
          "base_uri": "https://localhost:8080/"
        },
        "id": "V5BySvcXb9a3",
        "outputId": "53ec8de2-870a-4a53-c3ce-7dea47a87b90"
      },
      "source": [
        "print ('hola mundo')\n",
        "print ('hola mundo')\n",
        "\n",
        "nombre = 'cristopher'\n",
        "carrera = 'ingenieria en computación'\n",
        "\n",
        "\n",
        "print(nombre)\n",
        "\n",
        "print('hola', nombre)\n",
        "print('hola' + nombre)\n",
        "print ('Tu nombre es', nombre, 'y estudiaste', carrera)\n",
        "#con format\n",
        "print (' Tu nombre es {0} y \\n estudiaste {1}'.format('jose',carrera))\n",
        "\n",
        "#con el operador f''\n",
        "print (f'Tu nombre es {nombre} y estudiaste {carrera}')\n",
        "\n",
        "#salto al final de linea\n",
        "print (nombre, end = '\\n')\n",
        "print ('', end = \"\\n\")\n",
        "print(carrera, end = '\\n')"
      ],
      "execution_count": null,
      "outputs": [
        {
          "output_type": "stream",
          "name": "stdout",
          "text": [
            "hola mundo\n",
            "hola mundo\n",
            "cristopher\n",
            "hola cristopher\n",
            "holacristopher\n",
            "Tu nombre es cristopher y estudiaste ingenieria en computación\n",
            " Tu nombre es jose y \n",
            " estudiaste ingenieria en computación\n",
            "Tu nombre es cristopher y estudiaste ingenieria en computación\n",
            "cristopher\n",
            "\n",
            "\n",
            "ingenieria en computación\n"
          ]
        }
      ]
    },
    {
      "cell_type": "markdown",
      "metadata": {
        "id": "SGV1rmNVku7D"
      },
      "source": [
        "## Entrada de datos\n",
        "### función input()\n",
        "\n",
        "sirve para pedir datos al usuario, equivalente al scanf del leng 'c' o a la clase Scanner de Java siempre regresa un String"
      ]
    },
    {
      "cell_type": "code",
      "metadata": {
        "colab": {
          "base_uri": "https://localhost:8080/"
        },
        "id": "LhcZZ3Rrlh_Z",
        "outputId": "080f00dc-41c6-47a7-a762-c41910bcad37"
      },
      "source": [
        "nombre = input ('Introduce tu nombre:')\n",
        "print (nombre)\n",
        "\n",
        "semestre = input ('en que semestre estas')\n",
        "print (semestre)\n",
        "semestre = int(semestre) + 1\n",
        "print (semestre)\n",
        "semestre = semestre + 1\n",
        "print (semestre)\n",
        "\n",
        "\n",
        "semestre = int(input('cual es tu semeestre'))\n",
        "semestre = semestre + 1\n",
        "print (semestre)"
      ],
      "execution_count": null,
      "outputs": [
        {
          "output_type": "stream",
          "name": "stdout",
          "text": [
            "Introduce tu nombre:julio\n",
            "julio\n",
            "en que semestre estas5\n",
            "5\n",
            "6\n",
            "7\n",
            "cual es tu semeestre6\n",
            "7\n"
          ]
        }
      ]
    },
    {
      "cell_type": "markdown",
      "metadata": {
        "id": "EYh8I_E7nliB"
      },
      "source": [
        "###Tarea moral\n",
        "\n",
        "Investigar los sig conceptos en python\n",
        "\n",
        "- operadores\n",
        "    - aritmética\n",
        "    - lógicos\n",
        "    - booleanos\n",
        "- aritmetica\n",
        "    - asignación\n",
        "    - agrupación de ecuaciones con parentesis (precedencfia de operadores)\n",
        "  \n",
        "- comentarios\n",
        "    - de simple linea\n",
        "    - de linea múltiple\n",
        "- tipos de datos en python\n",
        "    - numéricos\n",
        "    - tuplas\n",
        "    - diccionarios\n"
      ]
    },
    {
      "cell_type": "markdown",
      "metadata": {
        "id": "U2FsoLpvo7MZ"
      },
      "source": [
        "# Repaso del tipo de dato String (str)\n",
        "\n",
        "Es un tipo de dato versatil. Los tipos de dato en phyton en realidad son objetos (POO), es decir tienen atributos y métodos.\n",
        "\n",
        "Los valores internos de un string se almacenan como un arreglo, es decir se accede a los elememtos con el operador [indice]"
      ]
    },
    {
      "cell_type": "code",
      "metadata": {
        "colab": {
          "base_uri": "https://localhost:8080/"
        },
        "id": "MqFedncwpMYI",
        "outputId": "bdcb6c13-e8a4-4d7d-be48-c5bacfc44ad5"
      },
      "source": [
        "frase = \"El conociemitno me persigue... pero yo soy más rápido\"\n",
        "\n",
        "#como se almacena la información\n",
        "print (frase [3])\n",
        "print (len(frase))\n",
        "\n",
        "print (frase[52])\n",
        "\n",
        "#indexado negativo\n",
        "print (frase [-5])\n",
        "\n",
        "#iterar sobre un string\n",
        "for letra in frase:\n",
        "  print (letra)\n",
        "print ('fin')"
      ],
      "execution_count": null,
      "outputs": [
        {
          "output_type": "stream",
          "name": "stdout",
          "text": [
            "c\n",
            "53\n",
            "o\n",
            "á\n",
            "E\n",
            "l\n",
            " \n",
            "c\n",
            "o\n",
            "n\n",
            "o\n",
            "c\n",
            "i\n",
            "e\n",
            "m\n",
            "i\n",
            "t\n",
            "n\n",
            "o\n",
            " \n",
            "m\n",
            "e\n",
            " \n",
            "p\n",
            "e\n",
            "r\n",
            "s\n",
            "i\n",
            "g\n",
            "u\n",
            "e\n",
            ".\n",
            ".\n",
            ".\n",
            " \n",
            "p\n",
            "e\n",
            "r\n",
            "o\n",
            " \n",
            "y\n",
            "o\n",
            " \n",
            "s\n",
            "o\n",
            "y\n",
            " \n",
            "m\n",
            "á\n",
            "s\n",
            " \n",
            "r\n",
            "á\n",
            "p\n",
            "i\n",
            "d\n",
            "o\n",
            "fin\n"
          ]
        }
      ]
    },
    {
      "cell_type": "markdown",
      "metadata": {
        "id": "dfe2SwFiGEVT"
      },
      "source": [
        "# slicing (rebanado)\n",
        "\n",
        "Es posible seleccionar segmantos de una lista (str) por medio de la sintaxis [<inicio> : <tope>: <incremento>]\n",
        "\n",
        "Por defecto:\n",
        "  Inicio = 0 , -1\n",
        "  Tope = tamaño de la lista (str), no incluye el tope, -0\n",
        "  Incrememtno = 1, -1"
      ]
    },
    {
      "cell_type": "code",
      "metadata": {
        "colab": {
          "base_uri": "https://localhost:8080/"
        },
        "id": "XImrZjmTGwpE",
        "outputId": "2125a5af-7180-43cd-bfc6-0d7a8823dc7c"
      },
      "source": [
        "nombre = 'Facultad de Estudios Superiores Aragón'\n",
        "\n",
        "print( nombre [0] )\n",
        "print( nombre[-1] )\n",
        "\n",
        "#slicing\n",
        "print( nombre[ 2 : 5 : 1] )\n",
        "print( nombre[ 0 : 8 : 1] )\n",
        "\n",
        "#slicing son indexado negativo (-)\n",
        "print( nombre[ -6 :  : 1] )\n",
        "\n",
        "print( nombre[ 7 :  : -1])"
      ],
      "execution_count": null,
      "outputs": [
        {
          "output_type": "stream",
          "name": "stdout",
          "text": [
            "F\n",
            "n\n",
            "cul\n",
            "Facultad\n",
            "Aragón\n",
            "datlucaF\n"
          ]
        }
      ]
    },
    {
      "cell_type": "markdown",
      "metadata": {
        "id": "VxIDnQ0dKjYS"
      },
      "source": [
        "# String como objeto\n",
        "El tipo de dato String es una clase por lo tanto tiene atributos y métodos\n",
        "\n",
        "### Ayuda en linea de Phyton\n",
        "\n",
        "  Hay dos funciones que te ayudan en Python:\n",
        "    1. dir()\n",
        "    2. help()"
      ]
    },
    {
      "cell_type": "code",
      "metadata": {
        "colab": {
          "base_uri": "https://localhost:8080/"
        },
        "id": "z-ZqtjxNK-kK",
        "outputId": "01e0c5fa-8266-482a-9245-8b7057b19bfc"
      },
      "source": [
        "dir(str)"
      ],
      "execution_count": null,
      "outputs": [
        {
          "output_type": "execute_result",
          "data": {
            "text/plain": [
              "['__add__',\n",
              " '__class__',\n",
              " '__contains__',\n",
              " '__delattr__',\n",
              " '__dir__',\n",
              " '__doc__',\n",
              " '__eq__',\n",
              " '__format__',\n",
              " '__ge__',\n",
              " '__getattribute__',\n",
              " '__getitem__',\n",
              " '__getnewargs__',\n",
              " '__gt__',\n",
              " '__hash__',\n",
              " '__init__',\n",
              " '__init_subclass__',\n",
              " '__iter__',\n",
              " '__le__',\n",
              " '__len__',\n",
              " '__lt__',\n",
              " '__mod__',\n",
              " '__mul__',\n",
              " '__ne__',\n",
              " '__new__',\n",
              " '__reduce__',\n",
              " '__reduce_ex__',\n",
              " '__repr__',\n",
              " '__rmod__',\n",
              " '__rmul__',\n",
              " '__setattr__',\n",
              " '__sizeof__',\n",
              " '__str__',\n",
              " '__subclasshook__',\n",
              " 'capitalize',\n",
              " 'casefold',\n",
              " 'center',\n",
              " 'count',\n",
              " 'encode',\n",
              " 'endswith',\n",
              " 'expandtabs',\n",
              " 'find',\n",
              " 'format',\n",
              " 'format_map',\n",
              " 'index',\n",
              " 'isalnum',\n",
              " 'isalpha',\n",
              " 'isascii',\n",
              " 'isdecimal',\n",
              " 'isdigit',\n",
              " 'isidentifier',\n",
              " 'islower',\n",
              " 'isnumeric',\n",
              " 'isprintable',\n",
              " 'isspace',\n",
              " 'istitle',\n",
              " 'isupper',\n",
              " 'join',\n",
              " 'ljust',\n",
              " 'lower',\n",
              " 'lstrip',\n",
              " 'maketrans',\n",
              " 'partition',\n",
              " 'replace',\n",
              " 'rfind',\n",
              " 'rindex',\n",
              " 'rjust',\n",
              " 'rpartition',\n",
              " 'rsplit',\n",
              " 'rstrip',\n",
              " 'split',\n",
              " 'splitlines',\n",
              " 'startswith',\n",
              " 'strip',\n",
              " 'swapcase',\n",
              " 'title',\n",
              " 'translate',\n",
              " 'upper',\n",
              " 'zfill']"
            ]
          },
          "metadata": {},
          "execution_count": 9
        }
      ]
    },
    {
      "cell_type": "code",
      "metadata": {
        "colab": {
          "base_uri": "https://localhost:8080/"
        },
        "id": "EIWu3Z8ULSaG",
        "outputId": "459eaa7d-ed2a-46c5-cd9f-100bcad6b520"
      },
      "source": [
        "apellidos = 'garcía pérez'\n",
        "\n",
        "print( apellidos.capitalize())\n",
        "print( apellidos.title())\n",
        "print( apellidos.find( 'a'))\n",
        "print( 'LOPEZ PÉREZ'.lower())\n",
        "print( apellidos.upper())\n",
        "\n",
        "\n",
        "numeros = '        1,      2     ,   3    ,4,5,6   '\n",
        "num_divididos = numeros.strip().split (',')\n",
        "print( num_divididos)\n",
        "\n",
        "num_divididos[0] = num_divididos[0].strip()\n",
        "num_divididos[1] = num_divididos[1].strip()\n",
        "num_divididos[2] = num_divididos[2].strip()\n",
        "num_divididos[3] = num_divididos[3].strip()\n",
        "num_divididos[4] = num_divididos[4].strip()\n",
        "num_divididos[5] = num_divididos[5].strip()\n",
        "print( num_divididos)\n",
        "\n",
        "for elem in num_divididos:\n",
        "  print( elem )\n",
        "\n",
        "for index in range(6):\n",
        "    num_divididos[index] = num_divididos[index].strip()\n",
        "\n",
        "print( num_divididos)"
      ],
      "execution_count": null,
      "outputs": [
        {
          "output_type": "stream",
          "name": "stdout",
          "text": [
            "García pérez\n",
            "García Pérez\n",
            "1\n",
            "lopez pérez\n",
            "GARCÍA PÉREZ\n",
            "['1', '      2     ', '   3    ', '4', '5', '6']\n",
            "['1', '2', '3', '4', '5', '6']\n",
            "1\n",
            "2\n",
            "3\n",
            "4\n",
            "5\n",
            "6\n",
            "['1', '2', '3', '4', '5', '6']\n"
          ]
        }
      ]
    },
    {
      "cell_type": "markdown",
      "metadata": {
        "id": "oche07BdPZN4"
      },
      "source": [
        "#Estructurad de control\n",
        "\n",
        "## if\n",
        "\n",
        "## if-else\n",
        "\n",
        "##switch - case (En python se implementa con IF)\n",
        "\n",
        "##for\n",
        "\n",
        "#while y do_while"
      ]
    },
    {
      "cell_type": "code",
      "metadata": {
        "colab": {
          "base_uri": "https://localhost:8080/"
        },
        "id": "AU8OeHNIPyw9",
        "outputId": "ae78786c-6fcb-4f2c-c27f-f48e9f832032"
      },
      "source": [
        "#if\n",
        "a = 2\n",
        "b = 3\n",
        "c = 4\n",
        "print( a > b)\n",
        "\n",
        "if a > b :\n",
        "  print('Estamos en el IF')\n",
        "  print('A es mayor que B')\n",
        "print('Fin del programa')\n",
        "\n",
        "###################\n",
        "if c > a:\n",
        "  if c > b:\n",
        "    print('C es el mayor de los 3')\n",
        "\n",
        "if c > a and c > b:\n",
        "  print('C es el mayor de los 3')\n",
        "\n",
        "# if else, cual de las 3 variables es la mayor\n",
        "if a > b:\n",
        "  if a > c:\n",
        "    print('A es la mayor')\n",
        "  else: print('C es la mayor')\n",
        "else:\n",
        "  if b > c:\n",
        "    print('B es la mayor')\n",
        "  else:\n",
        "    print('C es la mayor')\n",
        "\n",
        "#if - else (elif) tiene una notación especial cuando se encadena una acción\n",
        "\n",
        "if a > b:\n",
        "  if a > c:\n",
        "    print('A es la mayor')\n",
        "  else: \n",
        "    print('C es la mayor')\n",
        "elif b > c:\n",
        "  print('B es la mayor')\n",
        "else:\n",
        "    print('C es la mayor')\n",
        "\n",
        "# pedir al usiario un número entre 1 y 7, e imprimir el día de la semana NOTA: por la función del elif en python no existe el switch\n",
        "opcion = int(input('Introduce un numero entre 1 y 7:'))\n",
        "if opcion > 0 and opcion < 8:\n",
        "  if opcion == 1:\n",
        "    print('Lunes')\n",
        "  elif opcion == 2:\n",
        "    print('Martes')\n",
        "  elif opcion == 3:\n",
        "    print('Miercoles')\n",
        "  elif opcion == 4:\n",
        "    print('Jueves')\n",
        "  elif opcion == 5:\n",
        "    print('Viernes')\n",
        "  elif opcion == 6:\n",
        "    print('Sábado')\n",
        "  elif opcion == 7:\n",
        "    print('Domingo')\n",
        "\n",
        "else:\n",
        "  print(' Tu dato está fuera de lo solicitado')"
      ],
      "execution_count": null,
      "outputs": [
        {
          "output_type": "stream",
          "name": "stdout",
          "text": [
            "False\n",
            "Fin del programa\n",
            "C es el mayor de los 3\n",
            "C es el mayor de los 3\n",
            "C es la mayor\n",
            "C es la mayor\n",
            "Introduce un numero entre 1 y 7:5\n",
            "Viernes\n"
          ]
        }
      ]
    },
    {
      "cell_type": "code",
      "metadata": {
        "colab": {
          "base_uri": "https://localhost:8080/"
        },
        "id": "OqKd2wuJUwAN",
        "outputId": "7edfb614-2932-4de3-f329-53a2db353510"
      },
      "source": [
        "# FOR y range## range() es una función que te proporciona un enumerado\n",
        "\n",
        "algo = range(4, 10, 2)\n",
        "frutas = ['pera','manzana','aguacate','kiwi','plátano']\n",
        "nombre = 'Santiago'\n",
        "print(algo)\n",
        "\n",
        "for x in algo:   #for(int x=4; x<10 ; x=x+2)\n",
        "  print(x)\n",
        "for index in range (0, 5, 1):\n",
        "  print( frutas[index] )\n",
        "\n",
        "# FOR e iteratores\n",
        "for fruit in frutas:\n",
        "  print (fruit)\n",
        "\n",
        "for letra in nombre:\n",
        "  print( letra.upper())\n"
      ],
      "execution_count": null,
      "outputs": [
        {
          "output_type": "stream",
          "name": "stdout",
          "text": [
            "range(4, 10, 2)\n",
            "4\n",
            "6\n",
            "8\n",
            "pera\n",
            "manzana\n",
            "aguacate\n",
            "kiwi\n",
            "plátano\n",
            "pera\n",
            "manzana\n",
            "aguacate\n",
            "kiwi\n",
            "plátano\n",
            "S\n",
            "A\n",
            "N\n",
            "T\n",
            "I\n",
            "A\n",
            "G\n",
            "O\n"
          ]
        }
      ]
    },
    {
      "cell_type": "code",
      "metadata": {
        "colab": {
          "base_uri": "https://localhost:8080/"
        },
        "id": "SocyDTFCX5Gy",
        "outputId": "22056d1a-9720-480b-881b-efe39850d4cb"
      },
      "source": [
        "# while\n",
        "\n",
        "# hacer un programa que imprima del 1 al 10 \n",
        "control = 1\n",
        "\n",
        "while control <= 10:\n",
        "  print( control )\n",
        "  control += 1\n",
        "\n",
        "\n",
        "\n"
      ],
      "execution_count": null,
      "outputs": [
        {
          "output_type": "stream",
          "name": "stdout",
          "text": [
            "1\n",
            "2\n",
            "3\n",
            "4\n",
            "5\n",
            "6\n",
            "7\n",
            "8\n",
            "9\n",
            "10\n"
          ]
        }
      ]
    },
    {
      "cell_type": "markdown",
      "metadata": {
        "id": "oOYeVOO1Y6yK"
      },
      "source": [
        "# funciones\n",
        "\n",
        "Es un segmento de código wue recibe, cero o más valores de entrada, realiza una o un conjunto de operaciones de forma interna y regresa un solo tipo de datos,\n",
        "aunque ese valorse None (void)\n",
        "\n",
        "Las funciones se declaran con la palabra reservada *def*"
      ]
    },
    {
      "cell_type": "code",
      "metadata": {
        "colab": {
          "base_uri": "https://localhost:8080/"
        },
        "id": "IDgJxniyZqBB",
        "outputId": "57e9ead6-f625-48c1-e1dd-802e8cbf2f75"
      },
      "source": [
        "# funcion suma\n",
        "\n",
        "def suma ( a, b):\n",
        "  c = 0\n",
        "  c = a + b\n",
        "  return c\n",
        "print(suma ( 4, 5))\n",
        "\n",
        "# función que salude personas\n",
        "\n",
        "def saludar( nombre):\n",
        "  print(f'Hola {nombre}, ¿cómo estas?')\n",
        "  return None\n",
        "\n",
        "saludar('Jesus')\n",
        "nombre = 'Santiago'\n",
        "saludar(nombre)\n",
        "\n",
        "res = saludar (nombre)\n",
        "print(res)"
      ],
      "execution_count": null,
      "outputs": [
        {
          "output_type": "stream",
          "name": "stdout",
          "text": [
            "9\n",
            "Hola Jesus, ¿cómo estas?\n",
            "Hola Santiago, ¿cómo estas?\n",
            "Hola Santiago, ¿cómo estas?\n",
            "None\n"
          ]
        }
      ]
    },
    {
      "cell_type": "markdown",
      "metadata": {
        "id": "U1j-ebKqJPDw"
      },
      "source": [
        "#default y funciones\n",
        "Hay ocaciones que es necesario declaraer valores por defecto en los argumentos de una función "
      ]
    },
    {
      "cell_type": "code",
      "metadata": {
        "colab": {
          "base_uri": "https://localhost:8080/"
        },
        "id": "-wqlZfc9Jg8X",
        "outputId": "24026dca-6aaa-42ee-80e1-b743ae1033e1"
      },
      "source": [
        "def saludar (nombre, veces = 5):#poniendo una asiganción en la cabecera del argumento toma esto como los valores por default\n",
        "  for x in range( veces ):\n",
        "    print(f'{x}.-Hola {nombre}')\n",
        "saludar ('juan', 2)\n",
        "\n",
        "# argumentos con llamadas no posicionales\n",
        "\n",
        "saludar (veces = 3, nombre = 'Ruben')\n",
        "\n"
      ],
      "execution_count": null,
      "outputs": [
        {
          "output_type": "stream",
          "name": "stdout",
          "text": [
            "0.-Hola juan\n",
            "1.-Hola juan\n",
            "0.-Hola Ruben\n",
            "1.-Hola Ruben\n",
            "2.-Hola Ruben\n"
          ]
        }
      ]
    },
    {
      "cell_type": "markdown",
      "metadata": {
        "id": "h_9qpDylbexO"
      },
      "source": [
        "#listas, diccionarios, tuplas y sets"
      ]
    },
    {
      "cell_type": "markdown",
      "metadata": {
        "id": "7sN9kCA3MAYA"
      },
      "source": [
        "# Listas\n",
        "Son estructuras de datos declaradas en python, funcionan como los arreglos en Java y C, con algunas diferencias.\n",
        "\n",
        "* Usan el selector []\n",
        "* Estrcutura secuencial (0 ... n)\n",
        "* Son mutables\n",
        "* Puede contener valores de difeerente tipo: [1, 'manzana', 1.23]\n",
        "* Pueden ser anidados (multidimencionales)\n",
        "* Se crean usando [] y list()"
      ]
    },
    {
      "cell_type": "code",
      "metadata": {
        "colab": {
          "base_uri": "https://localhost:8080/"
        },
        "id": "PAqLQSfdM8ej",
        "outputId": "e0f0e3ee-4dfa-4e90-8088-972574797d61"
      },
      "source": [
        "frutas = ['pera', 'lima', 'limón', 'kiwi', 'manzana']\n",
        "print( frutas)\n",
        "print( frutas[1])\n",
        "frutas[1] = 'mango'\n",
        "print( frutas)\n",
        "persona = ['Jose', 1.78, 19, False, 70.5, 'ICO']\n",
        "print( persona)\n",
        "print( persona[-1])\n",
        "\n",
        "#slicing\n",
        "numeros = [2,4,6,8,10,12,14,16,18,20]\n",
        "print( numeros[4:7])\n"
      ],
      "execution_count": null,
      "outputs": [
        {
          "output_type": "stream",
          "name": "stdout",
          "text": [
            "['pera', 'lima', 'limón', 'kiwi', 'manzana']\n",
            "lima\n",
            "['pera', 'mango', 'limón', 'kiwi', 'manzana']\n",
            "['Jose', 1.78, 19, False, 70.5, 'ICO']\n",
            "ICO\n",
            "[10, 12, 14]\n"
          ]
        }
      ]
    },
    {
      "cell_type": "code",
      "metadata": {
        "colab": {
          "base_uri": "https://localhost:8080/"
        },
        "id": "DIyuxOdQPBGN",
        "outputId": "c2ac0344-3d6a-4834-ab52-2d9962a64fe1"
      },
      "source": [
        "#Listas multidimencionales\n",
        "\n",
        "bds = [ 'mysql', 'Oracle', 'BD','Mongo', 'SQLite' ]\n",
        "leng_prog = [ 'C', 'JAVA', 'JS', 'C++', 'C#', 'Python']\n",
        "tecnologias = [bds, leng_prog]\n",
        "print( tecnologias)\n",
        "\"\"\"\n",
        "[\n",
        "    ['mysql', 'Oracle', 'BD', 'Mongo', 'SQLite'], \n",
        "    ['C', 'JAVA', 'JS', 'C++', 'C#', 'Python']\n",
        "]\n",
        "\"\"\"\n",
        "print( tecnologias [ 1 ][ 3 ]) #c++\n",
        "print( tecnologias [ 0 ][ 4 ]) #sqlite\n",
        "print( tecnologias [ 0 ][ -1 ]) #sqlite\n",
        "print( tecnologias [ 1 ][ 2:5 ]) # slicing"
      ],
      "execution_count": null,
      "outputs": [
        {
          "output_type": "stream",
          "name": "stdout",
          "text": [
            "[['mysql', 'Oracle', 'BD', 'Mongo', 'SQLite'], ['C', 'JAVA', 'JS', 'C++', 'C#', 'Python']]\n",
            "C++\n",
            "SQLite\n",
            "SQLite\n",
            "['JS', 'C++', 'C#']\n"
          ]
        }
      ]
    },
    {
      "cell_type": "markdown",
      "metadata": {
        "id": "EM0GLQ6fSwcl"
      },
      "source": [
        "# la clase list\n",
        "\n",
        "El tipo de dato list en realidad es una clase que tiene métodos"
      ]
    },
    {
      "cell_type": "code",
      "metadata": {
        "colab": {
          "base_uri": "https://localhost:8080/"
        },
        "id": "9pKbu4nDS-1U",
        "outputId": "99c9c96c-bbd0-43be-8dea-fd28fd907495"
      },
      "source": [
        "numeros = [ 100, 23, 45, 23, 55, 1, 22, 101, 99, 10, 13]\n",
        "type( numeros)\n",
        "dir( numeros)\n",
        "print( numeros.sort() )\n",
        "print( numeros)\n",
        "numeros.reverse()\n",
        "print( numeros)\n",
        "\n",
        "# Eliminar elementos de un arreglo\n",
        "# Forma 1 ( utilizando método remove)\n",
        "numeros. remove(55)\n",
        "print( numeros)\n",
        "\n",
        "# Forma 2 ( utilizando el operador del)\n",
        "del numeros[3]\n",
        "print( numeros)\n",
        "\n",
        "numeros.append(0)\n",
        "numeros.append(33)\n",
        "numeros.sort()\n",
        "numeros.reverse()\n",
        "print( numeros)\n",
        "numeros.insert(3, 60) # con insert puedo agregar un valor en el indice que yo quiera\n",
        "print( numeros)\n",
        "\n",
        "n = numeros.pop()\n",
        "print( n)\n",
        "print( numeros)\n",
        "n = numeros.pop(1)\n",
        "print( n)\n",
        "print( numeros)\n",
        "\n",
        "#extend funciona para unir dos listas\n",
        "mas_numeros = [400, 500, 600, 700]\n",
        "numeros.extend(mas_numeros)\n",
        "print( numeros)\n",
        "#numeros.clear()\n",
        "#print( numeros)\n",
        "\n",
        "#listas y la estructura de control FOR\n",
        "for num in numeros:\n",
        "  print(f'--> {num} <--')"
      ],
      "execution_count": null,
      "outputs": [
        {
          "output_type": "stream",
          "name": "stdout",
          "text": [
            "None\n",
            "[1, 10, 13, 22, 23, 23, 45, 55, 99, 100, 101]\n",
            "[101, 100, 99, 55, 45, 23, 23, 22, 13, 10, 1]\n",
            "[101, 100, 99, 45, 23, 23, 22, 13, 10, 1]\n",
            "[101, 100, 99, 23, 23, 22, 13, 10, 1]\n",
            "[101, 100, 99, 33, 23, 23, 22, 13, 10, 1, 0]\n",
            "[101, 100, 99, 60, 33, 23, 23, 22, 13, 10, 1, 0]\n",
            "0\n",
            "[101, 100, 99, 60, 33, 23, 23, 22, 13, 10, 1]\n",
            "100\n",
            "[101, 99, 60, 33, 23, 23, 22, 13, 10, 1]\n",
            "[101, 99, 60, 33, 23, 23, 22, 13, 10, 1, 400, 500, 600, 700]\n",
            "--> 101 <--\n",
            "--> 99 <--\n",
            "--> 60 <--\n",
            "--> 33 <--\n",
            "--> 23 <--\n",
            "--> 23 <--\n",
            "--> 22 <--\n",
            "--> 13 <--\n",
            "--> 10 <--\n",
            "--> 1 <--\n",
            "--> 400 <--\n",
            "--> 500 <--\n",
            "--> 600 <--\n",
            "--> 700 <--\n"
          ]
        }
      ]
    },
    {
      "cell_type": "markdown",
      "metadata": {
        "id": "fveJxwAflSfJ"
      },
      "source": [
        "# Tuplas\n",
        "\n",
        "* Estructura de dato lineal (se puede seleccionar por indice)\n",
        "* Son **inmutables**\n",
        "* Usan menos espacio en memoria\n",
        "* Son útiles para declarar valores de consulta\n",
        "* Fuera de eso, las demás características son las de las LISTAS"
      ]
    },
    {
      "cell_type": "code",
      "metadata": {
        "colab": {
          "base_uri": "https://localhost:8080/"
        },
        "id": "HNeBhDbEmUkK",
        "outputId": "6bd19a0c-a392-4707-bdc7-fd2157ebb0bb"
      },
      "source": [
        "datos_conexion = ( '123.234.145.23', 'Juan', 'patito123')\n",
        "print( datos_conexion[0])\n",
        "dir(datos_conexion)"
      ],
      "execution_count": null,
      "outputs": [
        {
          "output_type": "stream",
          "name": "stdout",
          "text": [
            "123.234.145.23\n"
          ]
        },
        {
          "output_type": "execute_result",
          "data": {
            "text/plain": [
              "['__add__',\n",
              " '__class__',\n",
              " '__contains__',\n",
              " '__delattr__',\n",
              " '__dir__',\n",
              " '__doc__',\n",
              " '__eq__',\n",
              " '__format__',\n",
              " '__ge__',\n",
              " '__getattribute__',\n",
              " '__getitem__',\n",
              " '__getnewargs__',\n",
              " '__gt__',\n",
              " '__hash__',\n",
              " '__init__',\n",
              " '__init_subclass__',\n",
              " '__iter__',\n",
              " '__le__',\n",
              " '__len__',\n",
              " '__lt__',\n",
              " '__mul__',\n",
              " '__ne__',\n",
              " '__new__',\n",
              " '__reduce__',\n",
              " '__reduce_ex__',\n",
              " '__repr__',\n",
              " '__rmul__',\n",
              " '__setattr__',\n",
              " '__sizeof__',\n",
              " '__str__',\n",
              " '__subclasshook__',\n",
              " 'count',\n",
              " 'index']"
            ]
          },
          "metadata": {},
          "execution_count": 27
        }
      ]
    },
    {
      "cell_type": "markdown",
      "metadata": {
        "id": "Q2SkvMcrYAxm"
      },
      "source": [
        "# Diccionarios\n",
        "\n",
        "* Estructura no lineal \n",
        "* Formada por pares llave-valor \n",
        "{'key':valor}\n",
        "* Donde valor puede ser de cualquie tipo int, float, list, diccionario.\n",
        "* NO se selecciona con [] X\n",
        "* Su selector es por llave Key\n",
        "* Se selecciona por corchetes cuadrasdos y la llave\n",
        "* Son mutables\n",
        "* Son como los tipo Jason en javascript\n",
        "* Tipo de dato utilizado para cambiar información con el sistema"
      ]
    },
    {
      "cell_type": "code",
      "metadata": {
        "colab": {
          "base_uri": "https://localhost:8080/"
        },
        "id": "2jwOnnMHY3BL",
        "outputId": "aa280ca5-35c4-4d16-e7d9-8da0318a59c2"
      },
      "source": [
        "persona = {'nombre':'José','edad':19,'estatura':1.7}\n",
        "print( persona)\n",
        "print(f'La estatura es: {persona [\"estatura\"]} metros')\n",
        "estudiante = {'nombre':{\n",
        "                        'nombres': ['Juan', 'José'],\n",
        "                        'paterno': 'Perez',\n",
        "                        'maternos': 'García'\n",
        "                        },\n",
        "              'edad': 19,\n",
        "              'estatura': 1.7,\n",
        "              'carrera': {\n",
        "                          'escuela' : 'UNAM FES Aragon',\n",
        "                          'carrera':'ICO',\n",
        "                          'semestre': 2\n",
        "                         } ,\n",
        "              'direccion':{\n",
        "                           'calle': 'Colorines',\n",
        "                           'num_exterior':34,\n",
        "                           'interior': 'Apartamento B' \n",
        "                          },\n",
        "              'telefonos':{\n",
        "                           \"casa\" : 556463663,\n",
        "                           \"celular\" : [\"+5255767664\" , \"+52557373773\"]\n",
        "                          }\n",
        "            \n",
        "             }\n",
        "print( estudiante['direccion']['calle'])\n",
        "print( estudiante['telefonos']['celular'][1])\n",
        "print( estudiante['estatura'])\n",
        "estudiante['direccion']['calle'] = 'Pancho Lopez' #cambiar el valor de una variable\n",
        "print( estudiante['direccion'])\n",
        "estudiante['direccion']['colonia'] = 'Impulsora'\n",
        "print( estudiante['direccion'])\n",
        "# Combinar con la invocacion de métodos de los valores.\n",
        "# Mostrar el nombre del estudiente en mayúsculas\n",
        "print(estudiante['nombre']['nombres'][1].upper())\n",
        "\n",
        "#keys()\n",
        "llaves = estudiante.keys()\n",
        "print( llaves)\n",
        "print('---------keys------------')\n",
        "for llave in llaves:\n",
        "  print( llave)\n",
        "  print( estudiante[llave])\n",
        "\n",
        "print( '----------values------------')\n",
        "#values()\n",
        "vals = estudiante.values()\n",
        "for val in vals:\n",
        "  print( val)\n",
        "\n",
        "print( '--------------item------------') # nos regresa una lista de tuplas\n",
        "elems = estudiante.items()\n",
        "print(elems)\n",
        "\n",
        "for par in elems:\n",
        "  #print( par)\n",
        "  print( par[1])"
      ],
      "execution_count": null,
      "outputs": [
        {
          "output_type": "stream",
          "name": "stdout",
          "text": [
            "{'nombre': 'José', 'edad': 19, 'estatura': 1.7}\n",
            "La estatura es: 1.7 metros\n",
            "Colorines\n",
            "+52557373773\n",
            "1.7\n",
            "{'calle': 'Pancho Lopez', 'num_exterior': 34, 'interior': 'Apartamento B'}\n",
            "{'calle': 'Pancho Lopez', 'num_exterior': 34, 'interior': 'Apartamento B', 'colonia': 'Impulsora'}\n",
            "JOSÉ\n",
            "dict_keys(['nombre', 'edad', 'estatura', 'carrera', 'direccion', 'telefonos'])\n",
            "---------keys------------\n",
            "nombre\n",
            "{'nombres': ['Juan', 'José'], 'paterno': 'Perez', 'maternos': 'García'}\n",
            "edad\n",
            "19\n",
            "estatura\n",
            "1.7\n",
            "carrera\n",
            "{'escuela': 'UNAM FES Aragon', 'carrera': 'ICO', 'semestre': 2}\n",
            "direccion\n",
            "{'calle': 'Pancho Lopez', 'num_exterior': 34, 'interior': 'Apartamento B', 'colonia': 'Impulsora'}\n",
            "telefonos\n",
            "{'casa': 556463663, 'celular': ['+5255767664', '+52557373773']}\n",
            "----------values------------\n",
            "{'nombres': ['Juan', 'José'], 'paterno': 'Perez', 'maternos': 'García'}\n",
            "19\n",
            "1.7\n",
            "{'escuela': 'UNAM FES Aragon', 'carrera': 'ICO', 'semestre': 2}\n",
            "{'calle': 'Pancho Lopez', 'num_exterior': 34, 'interior': 'Apartamento B', 'colonia': 'Impulsora'}\n",
            "{'casa': 556463663, 'celular': ['+5255767664', '+52557373773']}\n",
            "--------------item------------\n",
            "dict_items([('nombre', {'nombres': ['Juan', 'José'], 'paterno': 'Perez', 'maternos': 'García'}), ('edad', 19), ('estatura', 1.7), ('carrera', {'escuela': 'UNAM FES Aragon', 'carrera': 'ICO', 'semestre': 2}), ('direccion', {'calle': 'Pancho Lopez', 'num_exterior': 34, 'interior': 'Apartamento B', 'colonia': 'Impulsora'}), ('telefonos', {'casa': 556463663, 'celular': ['+5255767664', '+52557373773']})])\n",
            "{'nombres': ['Juan', 'José'], 'paterno': 'Perez', 'maternos': 'García'}\n",
            "19\n",
            "1.7\n",
            "{'escuela': 'UNAM FES Aragon', 'carrera': 'ICO', 'semestre': 2}\n",
            "{'calle': 'Pancho Lopez', 'num_exterior': 34, 'interior': 'Apartamento B', 'colonia': 'Impulsora'}\n",
            "{'casa': 556463663, 'celular': ['+5255767664', '+52557373773']}\n"
          ]
        }
      ]
    },
    {
      "cell_type": "code",
      "metadata": {
        "colab": {
          "base_uri": "https://localhost:8080/"
        },
        "id": "n70gSrSbh3zj",
        "outputId": "01cda91a-6cd8-45fe-827c-663ae04c1338"
      },
      "source": [
        "help(estudiante)"
      ],
      "execution_count": null,
      "outputs": [
        {
          "output_type": "stream",
          "name": "stdout",
          "text": [
            "Help on dict object:\n",
            "\n",
            "class dict(object)\n",
            " |  dict() -> new empty dictionary\n",
            " |  dict(mapping) -> new dictionary initialized from a mapping object's\n",
            " |      (key, value) pairs\n",
            " |  dict(iterable) -> new dictionary initialized as if via:\n",
            " |      d = {}\n",
            " |      for k, v in iterable:\n",
            " |          d[k] = v\n",
            " |  dict(**kwargs) -> new dictionary initialized with the name=value pairs\n",
            " |      in the keyword argument list.  For example:  dict(one=1, two=2)\n",
            " |  \n",
            " |  Methods defined here:\n",
            " |  \n",
            " |  __contains__(self, key, /)\n",
            " |      True if the dictionary has the specified key, else False.\n",
            " |  \n",
            " |  __delitem__(self, key, /)\n",
            " |      Delete self[key].\n",
            " |  \n",
            " |  __eq__(self, value, /)\n",
            " |      Return self==value.\n",
            " |  \n",
            " |  __ge__(self, value, /)\n",
            " |      Return self>=value.\n",
            " |  \n",
            " |  __getattribute__(self, name, /)\n",
            " |      Return getattr(self, name).\n",
            " |  \n",
            " |  __getitem__(...)\n",
            " |      x.__getitem__(y) <==> x[y]\n",
            " |  \n",
            " |  __gt__(self, value, /)\n",
            " |      Return self>value.\n",
            " |  \n",
            " |  __init__(self, /, *args, **kwargs)\n",
            " |      Initialize self.  See help(type(self)) for accurate signature.\n",
            " |  \n",
            " |  __iter__(self, /)\n",
            " |      Implement iter(self).\n",
            " |  \n",
            " |  __le__(self, value, /)\n",
            " |      Return self<=value.\n",
            " |  \n",
            " |  __len__(self, /)\n",
            " |      Return len(self).\n",
            " |  \n",
            " |  __lt__(self, value, /)\n",
            " |      Return self<value.\n",
            " |  \n",
            " |  __ne__(self, value, /)\n",
            " |      Return self!=value.\n",
            " |  \n",
            " |  __repr__(self, /)\n",
            " |      Return repr(self).\n",
            " |  \n",
            " |  __setitem__(self, key, value, /)\n",
            " |      Set self[key] to value.\n",
            " |  \n",
            " |  __sizeof__(...)\n",
            " |      D.__sizeof__() -> size of D in memory, in bytes\n",
            " |  \n",
            " |  clear(...)\n",
            " |      D.clear() -> None.  Remove all items from D.\n",
            " |  \n",
            " |  copy(...)\n",
            " |      D.copy() -> a shallow copy of D\n",
            " |  \n",
            " |  get(self, key, default=None, /)\n",
            " |      Return the value for key if key is in the dictionary, else default.\n",
            " |  \n",
            " |  items(...)\n",
            " |      D.items() -> a set-like object providing a view on D's items\n",
            " |  \n",
            " |  keys(...)\n",
            " |      D.keys() -> a set-like object providing a view on D's keys\n",
            " |  \n",
            " |  pop(...)\n",
            " |      D.pop(k[,d]) -> v, remove specified key and return the corresponding value.\n",
            " |      If key is not found, d is returned if given, otherwise KeyError is raised\n",
            " |  \n",
            " |  popitem(...)\n",
            " |      D.popitem() -> (k, v), remove and return some (key, value) pair as a\n",
            " |      2-tuple; but raise KeyError if D is empty.\n",
            " |  \n",
            " |  setdefault(self, key, default=None, /)\n",
            " |      Insert key with a value of default if key is not in the dictionary.\n",
            " |      \n",
            " |      Return the value for key if key is in the dictionary, else default.\n",
            " |  \n",
            " |  update(...)\n",
            " |      D.update([E, ]**F) -> None.  Update D from dict/iterable E and F.\n",
            " |      If E is present and has a .keys() method, then does:  for k in E: D[k] = E[k]\n",
            " |      If E is present and lacks a .keys() method, then does:  for k, v in E: D[k] = v\n",
            " |      In either case, this is followed by: for k in F:  D[k] = F[k]\n",
            " |  \n",
            " |  values(...)\n",
            " |      D.values() -> an object providing a view on D's values\n",
            " |  \n",
            " |  ----------------------------------------------------------------------\n",
            " |  Class methods defined here:\n",
            " |  \n",
            " |  fromkeys(iterable, value=None, /) from builtins.type\n",
            " |      Create a new dictionary with keys from iterable and values set to value.\n",
            " |  \n",
            " |  ----------------------------------------------------------------------\n",
            " |  Static methods defined here:\n",
            " |  \n",
            " |  __new__(*args, **kwargs) from builtins.type\n",
            " |      Create and return a new object.  See help(type) for accurate signature.\n",
            " |  \n",
            " |  ----------------------------------------------------------------------\n",
            " |  Data and other attributes defined here:\n",
            " |  \n",
            " |  __hash__ = None\n",
            "\n"
          ]
        }
      ]
    },
    {
      "cell_type": "markdown",
      "metadata": {
        "id": "ZKzV7YYgo41r"
      },
      "source": [
        "# Funciones 2da parte (El reencuentro)\n",
        "\n",
        "### Declarar funciones combinandola con **tuplas**\n",
        "Se puede recibir una lista de argumentos dinámica que se almacenará en una tupla. Para ello se utiliza un operador que es '*' en la declaración de la función.\n",
        "\n",
        "```\n",
        "def mi_funcion( *algo):\n",
        "  print(algo)\n",
        "``` \n",
        "\n"
      ]
    },
    {
      "cell_type": "code",
      "metadata": {
        "colab": {
          "base_uri": "https://localhost:8080/"
        },
        "id": "CZDj5nNKp-Xs",
        "outputId": "b0ca4f52-d51d-4772-de19-11d9db567d82"
      },
      "source": [
        "def mi_funcion( *argumentos):\n",
        "  print(argumentos)\n",
        "\n",
        "mi_funcion(1,2,3, 'Hola', 3.1416)\n",
        "\n",
        "def suma_v2 ( *vals):\n",
        "  suma = 0\n",
        "  for valor in vals:\n",
        "    suma += valor\n",
        "  print( suma)\n",
        "\n",
        "suma_v2( 5,4,2,3,5,6)"
      ],
      "execution_count": null,
      "outputs": [
        {
          "output_type": "stream",
          "name": "stdout",
          "text": [
            "(1, 2, 3, 'Hola', 3.1416)\n",
            "25\n"
          ]
        }
      ]
    },
    {
      "cell_type": "markdown",
      "metadata": {
        "id": "OXNkdWJKsdak"
      },
      "source": [
        "### Declarar funciones declarandolas con **diccionarios**\n",
        "\n",
        "\n",
        "\n",
        "```\n",
        "def mi_funcion( **argumentos): print(argumentos) # argumentos es un diccionario\n",
        "```\n",
        "\n"
      ]
    },
    {
      "cell_type": "code",
      "metadata": {
        "colab": {
          "base_uri": "https://localhost:8080/"
        },
        "id": "q5ojURUosarh",
        "outputId": "5089392c-7d96-42f6-c529-fb9c8742623b"
      },
      "source": [
        "def mi_funcion( **argumentos):\n",
        "  print( argumentos)\n",
        "\n",
        "mi_funcion( nombre = 'Jose', edad = 19)"
      ],
      "execution_count": null,
      "outputs": [
        {
          "output_type": "stream",
          "name": "stdout",
          "text": [
            "{'nombre': 'Jose', 'edad': 19}\n"
          ]
        }
      ]
    },
    {
      "cell_type": "markdown",
      "metadata": {
        "id": "VcS9ZVG_t-if"
      },
      "source": [
        "# Tarea\n",
        "\n",
        "Hacer un programa que permita levantar la comanda de un restaurante de la forma:\n",
        "\n",
        "\n",
        "El resultado debe ser así:\n",
        "\n",
        "### Tarea 2\n",
        "\n",
        "Hacer una función que reciba una ecuación y la resuelva por la chicharronera."
      ]
    },
    {
      "cell_type": "markdown",
      "metadata": {
        "id": "nZBlUqkBKspD"
      },
      "source": [
        "# modulos \n",
        "Un módulo en python es equivalente a un package en JAVA o un .H en el lenguaje c.\n",
        "\n",
        "En él, declaramos código que quieras llamar varias veces, este código debo estar empaquetado prinicipalmente en funciones.\n",
        "\n"
      ]
    },
    {
      "cell_type": "code",
      "metadata": {
        "colab": {
          "base_uri": "https://localhost:8080/"
        },
        "id": "csuAskiMMDY7",
        "outputId": "3bcbb55d-e76c-4815-f3c3-808be6762c8a"
      },
      "source": [
        "import mimodulo\n",
        "\n",
        "mimodulo.mi_suma( 3,4)\n",
        "\n",
        "mimodulo.mi_print( 'hola k ase')\n",
        "mimodulo.al_reves( 'hola k ase')"
      ],
      "execution_count": null,
      "outputs": [
        {
          "output_type": "stream",
          "name": "stdout",
          "text": [
            "Haciendo una suma\n",
            "La suma de 3 + 4 = 7\n",
            "HOLA K ASE\n",
            "esa k aloh\n"
          ]
        }
      ]
    },
    {
      "cell_type": "code",
      "metadata": {
        "colab": {
          "base_uri": "https://localhost:8080/",
          "height": 367
        },
        "id": "46eXL8RmQ1XA",
        "outputId": "32aede1a-4cf9-442c-9d91-95fbe9a441be"
      },
      "source": [
        "from mimodulo import mi_print \n",
        "from mimodulo import al_reves \n",
        "from mimodulo import mi_suma \n",
        "\n",
        "mi_print( 'hola de nuevo mi chavo')\n",
        "mi_suma( 5,6)\n",
        "al_reves( 'hola de nuevo mi chavo')"
      ],
      "execution_count": null,
      "outputs": [
        {
          "output_type": "error",
          "ename": "ModuleNotFoundError",
          "evalue": "ignored",
          "traceback": [
            "\u001b[0;31m---------------------------------------------------------------------------\u001b[0m",
            "\u001b[0;31mModuleNotFoundError\u001b[0m                       Traceback (most recent call last)",
            "\u001b[0;32m<ipython-input-3-622244ecdc3c>\u001b[0m in \u001b[0;36m<module>\u001b[0;34m()\u001b[0m\n\u001b[0;32m----> 1\u001b[0;31m \u001b[0;32mfrom\u001b[0m \u001b[0mmimodulo\u001b[0m \u001b[0;32mimport\u001b[0m \u001b[0mmi_print\u001b[0m\u001b[0;34m\u001b[0m\u001b[0;34m\u001b[0m\u001b[0m\n\u001b[0m\u001b[1;32m      2\u001b[0m \u001b[0;32mfrom\u001b[0m \u001b[0mmimodulo\u001b[0m \u001b[0;32mimport\u001b[0m \u001b[0mal_reves\u001b[0m\u001b[0;34m\u001b[0m\u001b[0;34m\u001b[0m\u001b[0m\n\u001b[1;32m      3\u001b[0m \u001b[0;32mfrom\u001b[0m \u001b[0mmimodulo\u001b[0m \u001b[0;32mimport\u001b[0m \u001b[0mmi_suma\u001b[0m\u001b[0;34m\u001b[0m\u001b[0;34m\u001b[0m\u001b[0m\n\u001b[1;32m      4\u001b[0m \u001b[0;34m\u001b[0m\u001b[0m\n\u001b[1;32m      5\u001b[0m \u001b[0mmi_print\u001b[0m\u001b[0;34m(\u001b[0m \u001b[0;34m'hola de nuevo mi chavo'\u001b[0m\u001b[0;34m)\u001b[0m\u001b[0;34m\u001b[0m\u001b[0;34m\u001b[0m\u001b[0m\n",
            "\u001b[0;31mModuleNotFoundError\u001b[0m: No module named 'mimodulo'",
            "",
            "\u001b[0;31m---------------------------------------------------------------------------\u001b[0;32m\nNOTE: If your import is failing due to a missing package, you can\nmanually install dependencies using either !pip or !apt.\n\nTo view examples of installing some common dependencies, click the\n\"Open Examples\" button below.\n\u001b[0;31m---------------------------------------------------------------------------\u001b[0m\n"
          ],
          "errorDetails": {
            "actions": [
              {
                "action": "open_url",
                "actionText": "Open Examples",
                "url": "/notebooks/snippets/importing_libraries.ipynb"
              }
            ]
          }
        }
      ]
    },
    {
      "cell_type": "code",
      "metadata": {
        "colab": {
          "base_uri": "https://localhost:8080/"
        },
        "id": "ZmVpSDfqSBuN",
        "outputId": "e1c0938f-0068-49ea-ce21-1debd6ba02a1"
      },
      "source": [
        "import sys\n",
        "# dir(sys)\n",
        "print( sys.path) # variable que configura en que carpetas buscar código de modulos "
      ],
      "execution_count": null,
      "outputs": [
        {
          "output_type": "stream",
          "name": "stdout",
          "text": [
            "['', '/content', '/env/python', '/usr/lib/python37.zip', '/usr/lib/python3.7', '/usr/lib/python3.7/lib-dynload', '/usr/local/lib/python3.7/dist-packages', '/usr/lib/python3/dist-packages', '/usr/local/lib/python3.7/dist-packages/IPython/extensions', '/root/.ipython']\n"
          ]
        }
      ]
    },
    {
      "cell_type": "code",
      "metadata": {
        "colab": {
          "base_uri": "https://localhost:8080/"
        },
        "id": "y4eeggrAT1DJ",
        "outputId": "4edcd29a-7ff7-4bbc-d3f7-bdb7dfccf2d6"
      },
      "source": [
        "!pip install simple-chalk"
      ],
      "execution_count": null,
      "outputs": [
        {
          "output_type": "stream",
          "name": "stdout",
          "text": [
            "Collecting simple-chalk\n",
            "  Downloading simple_chalk-0.1.0.tar.gz (13 kB)\n",
            "Building wheels for collected packages: simple-chalk\n",
            "  Building wheel for simple-chalk (setup.py) ... \u001b[?25l\u001b[?25hdone\n",
            "  Created wheel for simple-chalk: filename=simple_chalk-0.1.0-py3-none-any.whl size=22163 sha256=957dc5fc9209e0f58aef61a13519ac83c5e31417b41e1bbbde11939cade461e9\n",
            "  Stored in directory: /root/.cache/pip/wheels/24/e2/84/d54838032016039eef79df1137b91defaa6db068d825dfcdcd\n",
            "Successfully built simple-chalk\n",
            "Installing collected packages: simple-chalk\n",
            "Successfully installed simple-chalk-0.1.0\n"
          ]
        }
      ]
    },
    {
      "cell_type": "code",
      "metadata": {
        "colab": {
          "base_uri": "https://localhost:8080/"
        },
        "id": "fk5b9GUcUZNT",
        "outputId": "12dd5e01-a215-4726-fee7-10639f54083d"
      },
      "source": [
        "from simple_chalk import *\n",
        "print( chalk.blue('Texto en azul'))\n",
        "whyNot = green.bgWhite.red.bgGray\n",
        "print(whyNot(\"this is red text with a gray background\"))\n",
        "verde_sobre_negro= green.bgBlack\n",
        "print( verde_sobre_negro( 'test'))"
      ],
      "execution_count": null,
      "outputs": [
        {
          "output_type": "stream",
          "name": "stdout",
          "text": [
            "\u001b[34mTexto en azul\u001b[0m\n",
            "\u001b[31;100mthis is red text with a gray background\u001b[0m\n",
            "\u001b[32;40mtest\u001b[0m\n"
          ]
        }
      ]
    },
    {
      "cell_type": "markdown",
      "metadata": {
        "id": "zI1t10cpXTU3"
      },
      "source": [
        "# Archivos\n",
        "\n",
        "Para abrir un archivo se utiliza la funcion open('nombre', 'AB')\n",
        "\n",
        "nombre = La ruta del archivo\n",
        "A = modo de apertura (W,r,a,...)\n",
        "B = Formato t (texto) o b (binario)\n",
        "\n",
        "Para leer tenemos las funciones\n",
        "\n",
        "- read()\n",
        "- readline()\n",
        "- readlines()"
      ]
    },
    {
      "cell_type": "code",
      "metadata": {
        "id": "cgJiiN1IZpBN"
      },
      "source": [
        "!cat datos"
      ],
      "execution_count": null,
      "outputs": []
    },
    {
      "cell_type": "code",
      "metadata": {
        "colab": {
          "base_uri": "https://localhost:8080/",
          "height": 435
        },
        "id": "N8boIpv9Y2qd",
        "outputId": "3f68b185-ea94-4c9a-d385-a3bbfae691fe"
      },
      "source": [
        "\"\"\"\n",
        "1,2,3,4,5,6,\n",
        "8,9,10\n",
        "11,12\n",
        "13\n",
        "\"\"\"\n",
        "archivo = open('datos.dat','rt')\n",
        "info = archivo.read()\n",
        "print( info)\n",
        "\n",
        "# readline()\n",
        "print( '-----------readline----------')\n",
        "archivo = open( 'datos.dat', 'rt')\n",
        "info = archivo.readline()\n",
        "print( info)\n",
        "info = archivo.readline()\n",
        "print( info)\n",
        "\n",
        "# readlines()\n",
        "print( '------------read lines---------')\n",
        "archivo = open ( 'datos.dat','rt')\n",
        "info = archivo.readlines()\n",
        "print( info)\n",
        "for index in range(len( info)):\n",
        "  info [index] = info[index].strip()\n",
        "\n",
        "print( info)\n",
        "\n",
        "numeros= []\n",
        "for grupo in info:\n",
        "  for numero in grupo.split(','):\n",
        "    numeros.append( int(numero))\n",
        "print( numeros)\n",
        "\n",
        "suma = 0\n",
        "for num in numeros:\n",
        "  suma += num\n",
        "\n",
        "print( suma)\n",
        "\n",
        "\n"
      ],
      "execution_count": null,
      "outputs": [
        {
          "output_type": "stream",
          "name": "stdout",
          "text": [
            "1,2,3,4,5,6,\n",
            "8,9,10\n",
            "11,12\n",
            "13\n",
            "-----------readline----------\n",
            "1,2,3,4,5,6,\n",
            "\n",
            "8,9,10\n",
            "\n",
            "------------read lines---------\n",
            "['1,2,3,4,5,6,\\n', '8,9,10\\n', '11,12\\n', '13']\n",
            "['1,2,3,4,5,6,', '8,9,10', '11,12', '13']\n"
          ]
        },
        {
          "output_type": "error",
          "ename": "ValueError",
          "evalue": "ignored",
          "traceback": [
            "\u001b[0;31m---------------------------------------------------------------------------\u001b[0m",
            "\u001b[0;31mValueError\u001b[0m                                Traceback (most recent call last)",
            "\u001b[0;32m<ipython-input-1-4cc1e4db9c70>\u001b[0m in \u001b[0;36m<module>\u001b[0;34m()\u001b[0m\n\u001b[1;32m     30\u001b[0m \u001b[0;32mfor\u001b[0m \u001b[0mgrupo\u001b[0m \u001b[0;32min\u001b[0m \u001b[0minfo\u001b[0m\u001b[0;34m:\u001b[0m\u001b[0;34m\u001b[0m\u001b[0;34m\u001b[0m\u001b[0m\n\u001b[1;32m     31\u001b[0m   \u001b[0;32mfor\u001b[0m \u001b[0mnumero\u001b[0m \u001b[0;32min\u001b[0m \u001b[0mgrupo\u001b[0m\u001b[0;34m.\u001b[0m\u001b[0msplit\u001b[0m\u001b[0;34m(\u001b[0m\u001b[0;34m','\u001b[0m\u001b[0;34m)\u001b[0m\u001b[0;34m:\u001b[0m\u001b[0;34m\u001b[0m\u001b[0;34m\u001b[0m\u001b[0m\n\u001b[0;32m---> 32\u001b[0;31m     \u001b[0mnumeros\u001b[0m\u001b[0;34m.\u001b[0m\u001b[0mappend\u001b[0m\u001b[0;34m(\u001b[0m \u001b[0mint\u001b[0m\u001b[0;34m(\u001b[0m\u001b[0mnumero\u001b[0m\u001b[0;34m)\u001b[0m\u001b[0;34m)\u001b[0m\u001b[0;34m\u001b[0m\u001b[0;34m\u001b[0m\u001b[0m\n\u001b[0m\u001b[1;32m     33\u001b[0m \u001b[0mprint\u001b[0m\u001b[0;34m(\u001b[0m \u001b[0mnumeros\u001b[0m\u001b[0;34m)\u001b[0m\u001b[0;34m\u001b[0m\u001b[0;34m\u001b[0m\u001b[0m\n\u001b[1;32m     34\u001b[0m \u001b[0;34m\u001b[0m\u001b[0m\n",
            "\u001b[0;31mValueError\u001b[0m: invalid literal for int() with base 10: ''"
          ]
        }
      ]
    },
    {
      "cell_type": "markdown",
      "metadata": {
        "id": "mzH65cgfXJ2w"
      },
      "source": [
        "# Programacion Orientada a Objetos (POO) con Python\n",
        "\n",
        "La POO es un paradigma no soportado originalmente por Python, este maneja el paradigma Imperativo\n",
        "\n",
        "Python simula la POO con la decalaración de clases y haciendo referencias a un objeto de forma circular, self en python es equivalente a this de java.\n",
        "\n",
        "1. Forma 1:\n",
        "```\n",
        "class <Nombre de la clase>:\n",
        "      <definicion del cuerpo de la clase>\n",
        "```\n",
        "2. Forma 2:\n",
        "```\n",
        "class <nombre de la clase>(<Super clase>):\n",
        "      <Definicion del cuerpo de la clase>\n",
        "```\n",
        "\n",
        "El constructor se define siempre con el método _init_()\n",
        "(DOBLE GUION BAJO ANTES Y DESPUÉS DE init)\n",
        "\n",
        "La declaracion de atributos se realiza por medio del contructor.\n",
        "\n",
        "Para hacer encapsulamiento de métodos o atributos se debe poner _ (DOBLE GUION BAJO) previo a la declaracion del atributo o método."
      ]
    },
    {
      "cell_type": "code",
      "metadata": {
        "id": "zMNcDM-shzBv"
      },
      "source": [
        "class Persona:\n",
        "  def __init__(self, n, e, est):\n",
        "    self.__nombre = n\n",
        "    self.__edad = e\n",
        "    self.__estatura = est\n",
        "  \n",
        "  def to_string( self ):\n",
        "    return \"Nombre: \" + self.__nombre + \"Edad: \" + str(self.__edad) + \"Estatura: \" + self.__estatura\n",
        "\n",
        "  def set_estatura( self, nueva_est):\n",
        "    if nueva_est > 0.10 and nueva_est < 2.5:\n",
        "      self.__estatura = nueva_est\n",
        "    else:\n",
        "      print( 'Error: Esa estarura no es posible')\n",
        "    def get_estatura(self):\n",
        "      return self.__estatura"
      ],
      "execution_count": 18,
      "outputs": []
    },
    {
      "cell_type": "code",
      "metadata": {
        "colab": {
          "base_uri": "https://localhost:8080/",
          "height": 356
        },
        "id": "kwd8p67zkjL8",
        "outputId": "afcb3d05-b844-4207-addf-390576d9e26b"
      },
      "source": [
        "per = Persona (\"Jose\", 18, 1.70)\n",
        "print(per.to_string())\n",
        "\n",
        "# encapsulamiento\n",
        "\n",
        "per.nombre = 'Pedro' # ESTO NO SE RECOMIENDA\n",
        "print(per.to_string)\n",
        "\n",
        "#per.estatura = 3.9\n",
        "per.set_estatura(1.9)\n",
        "print(per.to_string())\n",
        "\n",
        "print('Estatura:', end = '')\n",
        "print( per.get__estatura)"
      ],
      "execution_count": 55,
      "outputs": [
        {
          "output_type": "error",
          "ename": "TypeError",
          "evalue": "ignored",
          "traceback": [
            "\u001b[0;31m---------------------------------------------------------------------------\u001b[0m",
            "\u001b[0;31mTypeError\u001b[0m                                 Traceback (most recent call last)",
            "\u001b[0;32m<ipython-input-55-eb62965f7029>\u001b[0m in \u001b[0;36m<module>\u001b[0;34m()\u001b[0m\n\u001b[1;32m      1\u001b[0m \u001b[0mper\u001b[0m \u001b[0;34m=\u001b[0m \u001b[0mPersona\u001b[0m \u001b[0;34m(\u001b[0m\u001b[0;34m\"Jose\"\u001b[0m\u001b[0;34m,\u001b[0m \u001b[0;36m18\u001b[0m\u001b[0;34m,\u001b[0m \u001b[0;36m1.70\u001b[0m\u001b[0;34m)\u001b[0m\u001b[0;34m\u001b[0m\u001b[0;34m\u001b[0m\u001b[0m\n\u001b[0;32m----> 2\u001b[0;31m \u001b[0mprint\u001b[0m\u001b[0;34m(\u001b[0m\u001b[0mper\u001b[0m\u001b[0;34m.\u001b[0m\u001b[0mto_string\u001b[0m\u001b[0;34m(\u001b[0m\u001b[0;34m)\u001b[0m\u001b[0;34m)\u001b[0m\u001b[0;34m\u001b[0m\u001b[0;34m\u001b[0m\u001b[0m\n\u001b[0m\u001b[1;32m      3\u001b[0m \u001b[0;34m\u001b[0m\u001b[0m\n\u001b[1;32m      4\u001b[0m \u001b[0;31m# encapsulamiento\u001b[0m\u001b[0;34m\u001b[0m\u001b[0;34m\u001b[0m\u001b[0;34m\u001b[0m\u001b[0m\n\u001b[1;32m      5\u001b[0m \u001b[0;34m\u001b[0m\u001b[0m\n",
            "\u001b[0;32m<ipython-input-18-fc2a80b4a11b>\u001b[0m in \u001b[0;36mto_string\u001b[0;34m(self)\u001b[0m\n\u001b[1;32m      6\u001b[0m \u001b[0;34m\u001b[0m\u001b[0m\n\u001b[1;32m      7\u001b[0m   \u001b[0;32mdef\u001b[0m \u001b[0mto_string\u001b[0m\u001b[0;34m(\u001b[0m \u001b[0mself\u001b[0m \u001b[0;34m)\u001b[0m\u001b[0;34m:\u001b[0m\u001b[0;34m\u001b[0m\u001b[0;34m\u001b[0m\u001b[0m\n\u001b[0;32m----> 8\u001b[0;31m     \u001b[0;32mreturn\u001b[0m \u001b[0;34m\"Nombre: \"\u001b[0m \u001b[0;34m+\u001b[0m \u001b[0mself\u001b[0m\u001b[0;34m.\u001b[0m\u001b[0m__nombre\u001b[0m \u001b[0;34m+\u001b[0m \u001b[0;34m\"Edad: \"\u001b[0m \u001b[0;34m+\u001b[0m \u001b[0mstr\u001b[0m\u001b[0;34m(\u001b[0m\u001b[0mself\u001b[0m\u001b[0;34m.\u001b[0m\u001b[0m__edad\u001b[0m\u001b[0;34m)\u001b[0m \u001b[0;34m+\u001b[0m \u001b[0;34m\"Estatura: \"\u001b[0m \u001b[0;34m+\u001b[0m \u001b[0mself\u001b[0m\u001b[0;34m.\u001b[0m\u001b[0m__estatura\u001b[0m\u001b[0;34m\u001b[0m\u001b[0;34m\u001b[0m\u001b[0m\n\u001b[0m\u001b[1;32m      9\u001b[0m \u001b[0;34m\u001b[0m\u001b[0m\n\u001b[1;32m     10\u001b[0m   \u001b[0;32mdef\u001b[0m \u001b[0mset_estatura\u001b[0m\u001b[0;34m(\u001b[0m \u001b[0mself\u001b[0m\u001b[0;34m,\u001b[0m \u001b[0mnueva_est\u001b[0m\u001b[0;34m)\u001b[0m\u001b[0;34m:\u001b[0m\u001b[0;34m\u001b[0m\u001b[0;34m\u001b[0m\u001b[0m\n",
            "\u001b[0;31mTypeError\u001b[0m: can only concatenate str (not \"float\") to str"
          ]
        }
      ]
    },
    {
      "cell_type": "code",
      "metadata": {
        "id": "3vgmnFZrquK4"
      },
      "source": [
        "class Estudiante( Persona ):\n",
        "  def _init_( self , nc, nombre, edad, est ):\n",
        "    self.__num_cta = nc\n",
        "    super()._init_(nombre,edad,est)\n",
        "\n",
        "  def to_string( self ):\n",
        "    return super().to_string() + \" Numero de cuenta: \" + self.__num_cta"
      ],
      "execution_count": 50,
      "outputs": []
    },
    {
      "cell_type": "code",
      "metadata": {
        "colab": {
          "base_uri": "https://localhost:8080/"
        },
        "id": "PWlQmvP8rSrO",
        "outputId": "909b45d5-0098-4f3c-c499-e1712e03f2a1"
      },
      "source": [
        "est = Estudiente( '124854948' ,'Jose', 18, 1.7)\n",
        "print( est.to_string)"
      ],
      "execution_count": 52,
      "outputs": [
        {
          "output_type": "stream",
          "name": "stdout",
          "text": [
            "<bound method Estudiente.to_string of <__main__.Estudiente object at 0x7fef093b4dd0>>\n"
          ]
        }
      ]
    },
    {
      "cell_type": "code",
      "metadata": {
        "id": "IUaGCDmU0eVr"
      },
      "source": [
        ""
      ],
      "execution_count": null,
      "outputs": []
    }
  ]
}